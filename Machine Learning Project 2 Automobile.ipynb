{
 "cells": [
  {
   "cell_type": "code",
   "execution_count": 1,
   "metadata": {},
   "outputs": [],
   "source": [
    "import numpy as np \n",
    "import pandas as pd\n",
    "import matplotlib.pyplot as plt\n",
    "import seaborn as sns\n",
    "%matplotlib inline"
   ]
  },
  {
   "cell_type": "code",
   "execution_count": 2,
   "metadata": {},
   "outputs": [],
   "source": [
    "dataset=pd.read_csv(\"AutoData (1).csv\")"
   ]
  },
  {
   "cell_type": "code",
   "execution_count": 3,
   "metadata": {},
   "outputs": [
    {
     "data": {
      "text/html": [
       "<div>\n",
       "<style scoped>\n",
       "    .dataframe tbody tr th:only-of-type {\n",
       "        vertical-align: middle;\n",
       "    }\n",
       "\n",
       "    .dataframe tbody tr th {\n",
       "        vertical-align: top;\n",
       "    }\n",
       "\n",
       "    .dataframe thead th {\n",
       "        text-align: right;\n",
       "    }\n",
       "</style>\n",
       "<table border=\"1\" class=\"dataframe\">\n",
       "  <thead>\n",
       "    <tr style=\"text-align: right;\">\n",
       "      <th></th>\n",
       "      <th>symboling</th>\n",
       "      <th>make</th>\n",
       "      <th>fueltype</th>\n",
       "      <th>aspiration</th>\n",
       "      <th>doornumber</th>\n",
       "      <th>carbody</th>\n",
       "      <th>drivewheel</th>\n",
       "      <th>enginelocation</th>\n",
       "      <th>wheelbase</th>\n",
       "      <th>carlength</th>\n",
       "      <th>...</th>\n",
       "      <th>enginesize</th>\n",
       "      <th>fuelsystem</th>\n",
       "      <th>boreratio</th>\n",
       "      <th>stroke</th>\n",
       "      <th>compressionratio</th>\n",
       "      <th>horsepower</th>\n",
       "      <th>peakrpm</th>\n",
       "      <th>citympg</th>\n",
       "      <th>highwaympg</th>\n",
       "      <th>price</th>\n",
       "    </tr>\n",
       "  </thead>\n",
       "  <tbody>\n",
       "    <tr>\n",
       "      <th>0</th>\n",
       "      <td>3</td>\n",
       "      <td>alfa-romero giulia</td>\n",
       "      <td>gas</td>\n",
       "      <td>std</td>\n",
       "      <td>two</td>\n",
       "      <td>convertible</td>\n",
       "      <td>rwd</td>\n",
       "      <td>front</td>\n",
       "      <td>88.6</td>\n",
       "      <td>168.8</td>\n",
       "      <td>...</td>\n",
       "      <td>130</td>\n",
       "      <td>mpfi</td>\n",
       "      <td>3.47</td>\n",
       "      <td>2.68</td>\n",
       "      <td>9.0</td>\n",
       "      <td>111</td>\n",
       "      <td>5000</td>\n",
       "      <td>21</td>\n",
       "      <td>27</td>\n",
       "      <td>13495.0</td>\n",
       "    </tr>\n",
       "    <tr>\n",
       "      <th>1</th>\n",
       "      <td>3</td>\n",
       "      <td>alfa-romero stelvio</td>\n",
       "      <td>gas</td>\n",
       "      <td>std</td>\n",
       "      <td>two</td>\n",
       "      <td>convertible</td>\n",
       "      <td>rwd</td>\n",
       "      <td>front</td>\n",
       "      <td>88.6</td>\n",
       "      <td>168.8</td>\n",
       "      <td>...</td>\n",
       "      <td>130</td>\n",
       "      <td>mpfi</td>\n",
       "      <td>3.47</td>\n",
       "      <td>2.68</td>\n",
       "      <td>9.0</td>\n",
       "      <td>111</td>\n",
       "      <td>5000</td>\n",
       "      <td>21</td>\n",
       "      <td>27</td>\n",
       "      <td>16500.0</td>\n",
       "    </tr>\n",
       "    <tr>\n",
       "      <th>2</th>\n",
       "      <td>1</td>\n",
       "      <td>alfa-romero Quadrifoglio</td>\n",
       "      <td>gas</td>\n",
       "      <td>std</td>\n",
       "      <td>two</td>\n",
       "      <td>hatchback</td>\n",
       "      <td>rwd</td>\n",
       "      <td>front</td>\n",
       "      <td>94.5</td>\n",
       "      <td>171.2</td>\n",
       "      <td>...</td>\n",
       "      <td>152</td>\n",
       "      <td>mpfi</td>\n",
       "      <td>2.68</td>\n",
       "      <td>3.47</td>\n",
       "      <td>9.0</td>\n",
       "      <td>154</td>\n",
       "      <td>5000</td>\n",
       "      <td>19</td>\n",
       "      <td>26</td>\n",
       "      <td>16500.0</td>\n",
       "    </tr>\n",
       "    <tr>\n",
       "      <th>3</th>\n",
       "      <td>2</td>\n",
       "      <td>audi 100 ls</td>\n",
       "      <td>gas</td>\n",
       "      <td>std</td>\n",
       "      <td>four</td>\n",
       "      <td>sedan</td>\n",
       "      <td>fwd</td>\n",
       "      <td>front</td>\n",
       "      <td>99.8</td>\n",
       "      <td>176.6</td>\n",
       "      <td>...</td>\n",
       "      <td>109</td>\n",
       "      <td>mpfi</td>\n",
       "      <td>3.19</td>\n",
       "      <td>3.40</td>\n",
       "      <td>10.0</td>\n",
       "      <td>102</td>\n",
       "      <td>5500</td>\n",
       "      <td>24</td>\n",
       "      <td>30</td>\n",
       "      <td>13950.0</td>\n",
       "    </tr>\n",
       "    <tr>\n",
       "      <th>4</th>\n",
       "      <td>2</td>\n",
       "      <td>audi 100ls</td>\n",
       "      <td>gas</td>\n",
       "      <td>std</td>\n",
       "      <td>four</td>\n",
       "      <td>sedan</td>\n",
       "      <td>4wd</td>\n",
       "      <td>front</td>\n",
       "      <td>99.4</td>\n",
       "      <td>176.6</td>\n",
       "      <td>...</td>\n",
       "      <td>136</td>\n",
       "      <td>mpfi</td>\n",
       "      <td>3.19</td>\n",
       "      <td>3.40</td>\n",
       "      <td>8.0</td>\n",
       "      <td>115</td>\n",
       "      <td>5500</td>\n",
       "      <td>18</td>\n",
       "      <td>22</td>\n",
       "      <td>17450.0</td>\n",
       "    </tr>\n",
       "  </tbody>\n",
       "</table>\n",
       "<p>5 rows × 25 columns</p>\n",
       "</div>"
      ],
      "text/plain": [
       "   symboling                      make fueltype aspiration doornumber  \\\n",
       "0          3        alfa-romero giulia      gas        std        two   \n",
       "1          3       alfa-romero stelvio      gas        std        two   \n",
       "2          1  alfa-romero Quadrifoglio      gas        std        two   \n",
       "3          2               audi 100 ls      gas        std       four   \n",
       "4          2                audi 100ls      gas        std       four   \n",
       "\n",
       "       carbody drivewheel enginelocation  wheelbase  carlength  ...  \\\n",
       "0  convertible        rwd          front       88.6      168.8  ...   \n",
       "1  convertible        rwd          front       88.6      168.8  ...   \n",
       "2    hatchback        rwd          front       94.5      171.2  ...   \n",
       "3        sedan        fwd          front       99.8      176.6  ...   \n",
       "4        sedan        4wd          front       99.4      176.6  ...   \n",
       "\n",
       "   enginesize  fuelsystem  boreratio stroke compressionratio  horsepower  \\\n",
       "0         130        mpfi       3.47   2.68              9.0         111   \n",
       "1         130        mpfi       3.47   2.68              9.0         111   \n",
       "2         152        mpfi       2.68   3.47              9.0         154   \n",
       "3         109        mpfi       3.19   3.40             10.0         102   \n",
       "4         136        mpfi       3.19   3.40              8.0         115   \n",
       "\n",
       "  peakrpm  citympg  highwaympg    price  \n",
       "0    5000       21          27  13495.0  \n",
       "1    5000       21          27  16500.0  \n",
       "2    5000       19          26  16500.0  \n",
       "3    5500       24          30  13950.0  \n",
       "4    5500       18          22  17450.0  \n",
       "\n",
       "[5 rows x 25 columns]"
      ]
     },
     "execution_count": 3,
     "metadata": {},
     "output_type": "execute_result"
    }
   ],
   "source": [
    "dataset.head()"
   ]
  },
  {
   "cell_type": "code",
   "execution_count": 4,
   "metadata": {},
   "outputs": [
    {
     "name": "stdout",
     "output_type": "stream",
     "text": [
      "<class 'pandas.core.frame.DataFrame'>\n",
      "RangeIndex: 205 entries, 0 to 204\n",
      "Data columns (total 25 columns):\n",
      "symboling           205 non-null int64\n",
      "make                205 non-null object\n",
      "fueltype            205 non-null object\n",
      "aspiration          205 non-null object\n",
      "doornumber          205 non-null object\n",
      "carbody             205 non-null object\n",
      "drivewheel          205 non-null object\n",
      "enginelocation      205 non-null object\n",
      "wheelbase           205 non-null float64\n",
      "carlength           205 non-null float64\n",
      "carwidth            205 non-null float64\n",
      "carheight           205 non-null float64\n",
      "curbweight          205 non-null int64\n",
      "enginetype          205 non-null object\n",
      "cylindernumber      205 non-null object\n",
      "enginesize          205 non-null int64\n",
      "fuelsystem          205 non-null object\n",
      "boreratio           205 non-null float64\n",
      "stroke              205 non-null float64\n",
      "compressionratio    205 non-null float64\n",
      "horsepower          205 non-null int64\n",
      "peakrpm             205 non-null int64\n",
      "citympg             205 non-null int64\n",
      "highwaympg          205 non-null int64\n",
      "price               205 non-null float64\n",
      "dtypes: float64(8), int64(7), object(10)\n",
      "memory usage: 40.1+ KB\n"
     ]
    }
   ],
   "source": [
    "dataset.info()"
   ]
  },
  {
   "cell_type": "code",
   "execution_count": 5,
   "metadata": {},
   "outputs": [
    {
     "data": {
      "text/plain": [
       "Index(['symboling', 'make', 'fueltype', 'aspiration', 'doornumber', 'carbody',\n",
       "       'drivewheel', 'enginelocation', 'wheelbase', 'carlength', 'carwidth',\n",
       "       'carheight', 'curbweight', 'enginetype', 'cylindernumber', 'enginesize',\n",
       "       'fuelsystem', 'boreratio', 'stroke', 'compressionratio', 'horsepower',\n",
       "       'peakrpm', 'citympg', 'highwaympg', 'price'],\n",
       "      dtype='object')"
      ]
     },
     "execution_count": 5,
     "metadata": {},
     "output_type": "execute_result"
    }
   ],
   "source": [
    "dataset.columns"
   ]
  },
  {
   "cell_type": "code",
   "execution_count": 6,
   "metadata": {},
   "outputs": [
    {
     "data": {
      "text/plain": [
       "25    19\n",
       "24    17\n",
       "38    17\n",
       "30    16\n",
       "32    16\n",
       "34    14\n",
       "37    13\n",
       "28    13\n",
       "29    10\n",
       "33     9\n",
       "31     8\n",
       "22     8\n",
       "23     7\n",
       "27     5\n",
       "43     4\n",
       "41     3\n",
       "42     3\n",
       "26     3\n",
       "20     2\n",
       "19     2\n",
       "18     2\n",
       "16     2\n",
       "36     2\n",
       "39     2\n",
       "46     2\n",
       "47     2\n",
       "53     1\n",
       "50     1\n",
       "17     1\n",
       "54     1\n",
       "Name: highwaympg, dtype: int64"
      ]
     },
     "execution_count": 6,
     "metadata": {},
     "output_type": "execute_result"
    }
   ],
   "source": [
    "#wheelbase, carlength, carwidth, carheight, curbweight,enginesize, boreratio, stroke, compressionratio, horsepower, peakrpm, citympg, highwaympg, \n",
    "#symboling, make, fueltype,aspiration, doornumber, carbody, drivewheel,enginelocation, enginetype, cylindernumber, fuelsystem,\n",
    "dataset['highwaympg'].value_counts()"
   ]
  },
  {
   "cell_type": "code",
   "execution_count": 7,
   "metadata": {},
   "outputs": [
    {
     "data": {
      "text/plain": [
       "<matplotlib.axes._subplots.AxesSubplot at 0x25cfe60e6d8>"
      ]
     },
     "execution_count": 7,
     "metadata": {},
     "output_type": "execute_result"
    },
    {
     "data": {
      "image/png": "[encoded data removed]",
      "text/plain": [
       "<Figure size 432x288 with 1 Axes>"
      ]
     },
     "metadata": {
      "needs_background": "light"
     },
     "output_type": "display_data"
    }
   ],
   "source": [
    "sns.distplot(dataset['price'])"
   ]
  },
  {
   "cell_type": "code",
   "execution_count": null,
   "metadata": {},
   "outputs": [],
   "source": []
  },
  {
   "cell_type": "code",
   "execution_count": null,
   "metadata": {},
   "outputs": [],
   "source": []
  },
  {
   "cell_type": "code",
   "execution_count": 8,
   "metadata": {},
   "outputs": [],
   "source": [
    "# numerical = wheelbase,'carlength', 'carwidth','carheight', 'curbweight', enginesize, boreratio, stroke, compressionratio, horsepower, peakrpm,'citympg', 'highwaympg', 'price'   "
   ]
  },
  {
   "cell_type": "code",
   "execution_count": 9,
   "metadata": {},
   "outputs": [],
   "source": [
    "data=dataset.copy()"
   ]
  },
  {
   "cell_type": "code",
   "execution_count": 10,
   "metadata": {},
   "outputs": [],
   "source": [
    "def first(x):\n",
    "    x=list(x.split())[0]\n",
    "    return x"
   ]
  },
  {
   "cell_type": "code",
   "execution_count": 11,
   "metadata": {},
   "outputs": [],
   "source": [
    "data['make']=data['make'].apply(first)"
   ]
  },
  {
   "cell_type": "code",
   "execution_count": 12,
   "metadata": {},
   "outputs": [
    {
     "data": {
      "text/plain": [
       "toyota         31\n",
       "nissan         17\n",
       "mazda          15\n",
       "mitsubishi     13\n",
       "honda          13\n",
       "subaru         12\n",
       "volvo          11\n",
       "peugeot        11\n",
       "volkswagen      9\n",
       "dodge           9\n",
       "buick           8\n",
       "bmw             8\n",
       "audi            7\n",
       "plymouth        7\n",
       "saab            6\n",
       "isuzu           4\n",
       "porsche         4\n",
       "alfa-romero     3\n",
       "chevrolet       3\n",
       "jaguar          3\n",
       "vw              2\n",
       "renault         2\n",
       "maxda           2\n",
       "Nissan          1\n",
       "porcshce        1\n",
       "vokswagen       1\n",
       "mercury         1\n",
       "toyouta         1\n",
       "Name: make, dtype: int64"
      ]
     },
     "execution_count": 12,
     "metadata": {},
     "output_type": "execute_result"
    }
   ],
   "source": [
    "data['make'].value_counts()"
   ]
  },
  {
   "cell_type": "code",
   "execution_count": 13,
   "metadata": {},
   "outputs": [],
   "source": [
    "def func(x):\n",
    "    if x=='vw':\n",
    "        return 'volkswagen'\n",
    "    elif x=='maxda':\n",
    "        return 'mazda'\n",
    "    elif x=='Nissan':\n",
    "        return 'nissan'\n",
    "    elif x=='vokswagen':\n",
    "        return 'volkswagen'\n",
    "    elif x=='porcshce':\n",
    "        return 'porsche'\n",
    "    elif x=='toyouta':\n",
    "        return 'toyota'\n",
    "    \n",
    "    else:\n",
    "        return x"
   ]
  },
  {
   "cell_type": "code",
   "execution_count": 14,
   "metadata": {},
   "outputs": [],
   "source": [
    "data['make']=data['make'].apply(func)"
   ]
  },
  {
   "cell_type": "code",
   "execution_count": 15,
   "metadata": {},
   "outputs": [],
   "source": [
    "data_cleaned=data.copy()"
   ]
  },
  {
   "cell_type": "code",
   "execution_count": null,
   "metadata": {},
   "outputs": [],
   "source": []
  },
  {
   "cell_type": "code",
   "execution_count": 16,
   "metadata": {},
   "outputs": [],
   "source": [
    "#fueltype, aspiration, enginelocation\n",
    "fueltype=pd.get_dummies(data_cleaned['fueltype'],drop_first=True)\n",
    "aspiration=pd.get_dummies(data_cleaned['aspiration'],drop_first=True)\n",
    "enginelocation=pd.get_dummies(data_cleaned['enginelocation'],drop_first=True)\n",
    "data_cleaned.drop(['fueltype','aspiration','enginelocation'],axis=1,inplace=True)\n",
    "data_cleaned=pd.concat([data_cleaned,fueltype,aspiration,enginelocation],axis=1)"
   ]
  },
  {
   "cell_type": "code",
   "execution_count": 17,
   "metadata": {},
   "outputs": [
    {
     "data": {
      "text/plain": [
       "Index(['symboling', 'make', 'doornumber', 'carbody', 'drivewheel', 'wheelbase',\n",
       "       'carlength', 'carwidth', 'carheight', 'curbweight', 'enginetype',\n",
       "       'cylindernumber', 'enginesize', 'fuelsystem', 'boreratio', 'stroke',\n",
       "       'compressionratio', 'horsepower', 'peakrpm', 'citympg', 'highwaympg',\n",
       "       'price', 'gas', 'turbo', 'rear'],\n",
       "      dtype='object')"
      ]
     },
     "execution_count": 17,
     "metadata": {},
     "output_type": "execute_result"
    }
   ],
   "source": [
    "data_cleaned.columns"
   ]
  },
  {
   "cell_type": "code",
   "execution_count": 18,
   "metadata": {},
   "outputs": [
    {
     "data": {
      "text/html": [
       "<div>\n",
       "<style scoped>\n",
       "    .dataframe tbody tr th:only-of-type {\n",
       "        vertical-align: middle;\n",
       "    }\n",
       "\n",
       "    .dataframe tbody tr th {\n",
       "        vertical-align: top;\n",
       "    }\n",
       "\n",
       "    .dataframe thead th {\n",
       "        text-align: right;\n",
       "    }\n",
       "</style>\n",
       "<table border=\"1\" class=\"dataframe\">\n",
       "  <thead>\n",
       "    <tr style=\"text-align: right;\">\n",
       "      <th></th>\n",
       "      <th>symboling</th>\n",
       "      <th>wheelbase</th>\n",
       "      <th>carlength</th>\n",
       "      <th>carwidth</th>\n",
       "      <th>carheight</th>\n",
       "      <th>curbweight</th>\n",
       "      <th>enginesize</th>\n",
       "      <th>boreratio</th>\n",
       "      <th>stroke</th>\n",
       "      <th>compressionratio</th>\n",
       "      <th>horsepower</th>\n",
       "      <th>peakrpm</th>\n",
       "      <th>citympg</th>\n",
       "      <th>highwaympg</th>\n",
       "      <th>price</th>\n",
       "      <th>gas</th>\n",
       "      <th>turbo</th>\n",
       "      <th>rear</th>\n",
       "    </tr>\n",
       "  </thead>\n",
       "  <tbody>\n",
       "    <tr>\n",
       "      <th>symboling</th>\n",
       "      <td>1.000000</td>\n",
       "      <td>-0.531954</td>\n",
       "      <td>-0.357612</td>\n",
       "      <td>-0.232919</td>\n",
       "      <td>-0.541038</td>\n",
       "      <td>-0.227691</td>\n",
       "      <td>-0.105790</td>\n",
       "      <td>-0.130051</td>\n",
       "      <td>-0.008735</td>\n",
       "      <td>-0.178515</td>\n",
       "      <td>0.070873</td>\n",
       "      <td>0.273606</td>\n",
       "      <td>-0.035823</td>\n",
       "      <td>0.034606</td>\n",
       "      <td>-0.079978</td>\n",
       "      <td>0.194311</td>\n",
       "      <td>-0.059866</td>\n",
       "      <td>0.212471</td>\n",
       "    </tr>\n",
       "    <tr>\n",
       "      <th>wheelbase</th>\n",
       "      <td>-0.531954</td>\n",
       "      <td>1.000000</td>\n",
       "      <td>0.874587</td>\n",
       "      <td>0.795144</td>\n",
       "      <td>0.589435</td>\n",
       "      <td>0.776386</td>\n",
       "      <td>0.569329</td>\n",
       "      <td>0.488750</td>\n",
       "      <td>0.160959</td>\n",
       "      <td>0.249786</td>\n",
       "      <td>0.353294</td>\n",
       "      <td>-0.360469</td>\n",
       "      <td>-0.470414</td>\n",
       "      <td>-0.544082</td>\n",
       "      <td>0.577816</td>\n",
       "      <td>-0.308346</td>\n",
       "      <td>0.257611</td>\n",
       "      <td>-0.187790</td>\n",
       "    </tr>\n",
       "    <tr>\n",
       "      <th>carlength</th>\n",
       "      <td>-0.357612</td>\n",
       "      <td>0.874587</td>\n",
       "      <td>1.000000</td>\n",
       "      <td>0.841118</td>\n",
       "      <td>0.491029</td>\n",
       "      <td>0.877728</td>\n",
       "      <td>0.683360</td>\n",
       "      <td>0.606454</td>\n",
       "      <td>0.129533</td>\n",
       "      <td>0.158414</td>\n",
       "      <td>0.552623</td>\n",
       "      <td>-0.287242</td>\n",
       "      <td>-0.670909</td>\n",
       "      <td>-0.704662</td>\n",
       "      <td>0.682920</td>\n",
       "      <td>-0.212679</td>\n",
       "      <td>0.234539</td>\n",
       "      <td>-0.050989</td>\n",
       "    </tr>\n",
       "    <tr>\n",
       "      <th>carwidth</th>\n",
       "      <td>-0.232919</td>\n",
       "      <td>0.795144</td>\n",
       "      <td>0.841118</td>\n",
       "      <td>1.000000</td>\n",
       "      <td>0.279210</td>\n",
       "      <td>0.867032</td>\n",
       "      <td>0.735433</td>\n",
       "      <td>0.559150</td>\n",
       "      <td>0.182942</td>\n",
       "      <td>0.181129</td>\n",
       "      <td>0.640732</td>\n",
       "      <td>-0.220012</td>\n",
       "      <td>-0.642704</td>\n",
       "      <td>-0.677218</td>\n",
       "      <td>0.759325</td>\n",
       "      <td>-0.233880</td>\n",
       "      <td>0.300567</td>\n",
       "      <td>-0.051698</td>\n",
       "    </tr>\n",
       "    <tr>\n",
       "      <th>carheight</th>\n",
       "      <td>-0.541038</td>\n",
       "      <td>0.589435</td>\n",
       "      <td>0.491029</td>\n",
       "      <td>0.279210</td>\n",
       "      <td>1.000000</td>\n",
       "      <td>0.295572</td>\n",
       "      <td>0.067149</td>\n",
       "      <td>0.171071</td>\n",
       "      <td>-0.055307</td>\n",
       "      <td>0.261214</td>\n",
       "      <td>-0.108802</td>\n",
       "      <td>-0.320411</td>\n",
       "      <td>-0.048640</td>\n",
       "      <td>-0.107358</td>\n",
       "      <td>0.119336</td>\n",
       "      <td>-0.284631</td>\n",
       "      <td>0.087311</td>\n",
       "      <td>-0.106234</td>\n",
       "    </tr>\n",
       "    <tr>\n",
       "      <th>curbweight</th>\n",
       "      <td>-0.227691</td>\n",
       "      <td>0.776386</td>\n",
       "      <td>0.877728</td>\n",
       "      <td>0.867032</td>\n",
       "      <td>0.295572</td>\n",
       "      <td>1.000000</td>\n",
       "      <td>0.850594</td>\n",
       "      <td>0.648480</td>\n",
       "      <td>0.168790</td>\n",
       "      <td>0.151362</td>\n",
       "      <td>0.750739</td>\n",
       "      <td>-0.266243</td>\n",
       "      <td>-0.757414</td>\n",
       "      <td>-0.797465</td>\n",
       "      <td>0.835305</td>\n",
       "      <td>-0.217275</td>\n",
       "      <td>0.324902</td>\n",
       "      <td>0.050468</td>\n",
       "    </tr>\n",
       "    <tr>\n",
       "      <th>enginesize</th>\n",
       "      <td>-0.105790</td>\n",
       "      <td>0.569329</td>\n",
       "      <td>0.683360</td>\n",
       "      <td>0.735433</td>\n",
       "      <td>0.067149</td>\n",
       "      <td>0.850594</td>\n",
       "      <td>1.000000</td>\n",
       "      <td>0.583774</td>\n",
       "      <td>0.203129</td>\n",
       "      <td>0.028971</td>\n",
       "      <td>0.809769</td>\n",
       "      <td>-0.244660</td>\n",
       "      <td>-0.653658</td>\n",
       "      <td>-0.677470</td>\n",
       "      <td>0.874145</td>\n",
       "      <td>-0.069594</td>\n",
       "      <td>0.108217</td>\n",
       "      <td>0.196826</td>\n",
       "    </tr>\n",
       "    <tr>\n",
       "      <th>boreratio</th>\n",
       "      <td>-0.130051</td>\n",
       "      <td>0.488750</td>\n",
       "      <td>0.606454</td>\n",
       "      <td>0.559150</td>\n",
       "      <td>0.171071</td>\n",
       "      <td>0.648480</td>\n",
       "      <td>0.583774</td>\n",
       "      <td>1.000000</td>\n",
       "      <td>-0.055909</td>\n",
       "      <td>0.005197</td>\n",
       "      <td>0.573677</td>\n",
       "      <td>-0.254976</td>\n",
       "      <td>-0.584532</td>\n",
       "      <td>-0.587012</td>\n",
       "      <td>0.553173</td>\n",
       "      <td>-0.054451</td>\n",
       "      <td>0.212614</td>\n",
       "      <td>0.185042</td>\n",
       "    </tr>\n",
       "    <tr>\n",
       "      <th>stroke</th>\n",
       "      <td>-0.008735</td>\n",
       "      <td>0.160959</td>\n",
       "      <td>0.129533</td>\n",
       "      <td>0.182942</td>\n",
       "      <td>-0.055307</td>\n",
       "      <td>0.168790</td>\n",
       "      <td>0.203129</td>\n",
       "      <td>-0.055909</td>\n",
       "      <td>1.000000</td>\n",
       "      <td>0.186110</td>\n",
       "      <td>0.080940</td>\n",
       "      <td>-0.067964</td>\n",
       "      <td>-0.042145</td>\n",
       "      <td>-0.043931</td>\n",
       "      <td>0.079443</td>\n",
       "      <td>-0.241829</td>\n",
       "      <td>0.222982</td>\n",
       "      <td>-0.138455</td>\n",
       "    </tr>\n",
       "    <tr>\n",
       "      <th>compressionratio</th>\n",
       "      <td>-0.178515</td>\n",
       "      <td>0.249786</td>\n",
       "      <td>0.158414</td>\n",
       "      <td>0.181129</td>\n",
       "      <td>0.261214</td>\n",
       "      <td>0.151362</td>\n",
       "      <td>0.028971</td>\n",
       "      <td>0.005197</td>\n",
       "      <td>0.186110</td>\n",
       "      <td>1.000000</td>\n",
       "      <td>-0.204326</td>\n",
       "      <td>-0.435741</td>\n",
       "      <td>0.324701</td>\n",
       "      <td>0.265201</td>\n",
       "      <td>0.067984</td>\n",
       "      <td>-0.984356</td>\n",
       "      <td>0.295541</td>\n",
       "      <td>-0.019762</td>\n",
       "    </tr>\n",
       "    <tr>\n",
       "      <th>horsepower</th>\n",
       "      <td>0.070873</td>\n",
       "      <td>0.353294</td>\n",
       "      <td>0.552623</td>\n",
       "      <td>0.640732</td>\n",
       "      <td>-0.108802</td>\n",
       "      <td>0.750739</td>\n",
       "      <td>0.809769</td>\n",
       "      <td>0.573677</td>\n",
       "      <td>0.080940</td>\n",
       "      <td>-0.204326</td>\n",
       "      <td>1.000000</td>\n",
       "      <td>0.131073</td>\n",
       "      <td>-0.801456</td>\n",
       "      <td>-0.770544</td>\n",
       "      <td>0.808139</td>\n",
       "      <td>0.163926</td>\n",
       "      <td>0.241685</td>\n",
       "      <td>0.317839</td>\n",
       "    </tr>\n",
       "    <tr>\n",
       "      <th>peakrpm</th>\n",
       "      <td>0.273606</td>\n",
       "      <td>-0.360469</td>\n",
       "      <td>-0.287242</td>\n",
       "      <td>-0.220012</td>\n",
       "      <td>-0.320411</td>\n",
       "      <td>-0.266243</td>\n",
       "      <td>-0.244660</td>\n",
       "      <td>-0.254976</td>\n",
       "      <td>-0.067964</td>\n",
       "      <td>-0.435741</td>\n",
       "      <td>0.131073</td>\n",
       "      <td>1.000000</td>\n",
       "      <td>-0.113544</td>\n",
       "      <td>-0.054275</td>\n",
       "      <td>-0.085267</td>\n",
       "      <td>0.476883</td>\n",
       "      <td>-0.183383</td>\n",
       "      <td>0.198461</td>\n",
       "    </tr>\n",
       "    <tr>\n",
       "      <th>citympg</th>\n",
       "      <td>-0.035823</td>\n",
       "      <td>-0.470414</td>\n",
       "      <td>-0.670909</td>\n",
       "      <td>-0.642704</td>\n",
       "      <td>-0.048640</td>\n",
       "      <td>-0.757414</td>\n",
       "      <td>-0.653658</td>\n",
       "      <td>-0.584532</td>\n",
       "      <td>-0.042145</td>\n",
       "      <td>0.324701</td>\n",
       "      <td>-0.801456</td>\n",
       "      <td>-0.113544</td>\n",
       "      <td>1.000000</td>\n",
       "      <td>0.971337</td>\n",
       "      <td>-0.685751</td>\n",
       "      <td>-0.255963</td>\n",
       "      <td>-0.202362</td>\n",
       "      <td>-0.153487</td>\n",
       "    </tr>\n",
       "    <tr>\n",
       "      <th>highwaympg</th>\n",
       "      <td>0.034606</td>\n",
       "      <td>-0.544082</td>\n",
       "      <td>-0.704662</td>\n",
       "      <td>-0.677218</td>\n",
       "      <td>-0.107358</td>\n",
       "      <td>-0.797465</td>\n",
       "      <td>-0.677470</td>\n",
       "      <td>-0.587012</td>\n",
       "      <td>-0.043931</td>\n",
       "      <td>0.265201</td>\n",
       "      <td>-0.770544</td>\n",
       "      <td>-0.054275</td>\n",
       "      <td>0.971337</td>\n",
       "      <td>1.000000</td>\n",
       "      <td>-0.697599</td>\n",
       "      <td>-0.191392</td>\n",
       "      <td>-0.254416</td>\n",
       "      <td>-0.102026</td>\n",
       "    </tr>\n",
       "    <tr>\n",
       "      <th>price</th>\n",
       "      <td>-0.079978</td>\n",
       "      <td>0.577816</td>\n",
       "      <td>0.682920</td>\n",
       "      <td>0.759325</td>\n",
       "      <td>0.119336</td>\n",
       "      <td>0.835305</td>\n",
       "      <td>0.874145</td>\n",
       "      <td>0.553173</td>\n",
       "      <td>0.079443</td>\n",
       "      <td>0.067984</td>\n",
       "      <td>0.808139</td>\n",
       "      <td>-0.085267</td>\n",
       "      <td>-0.685751</td>\n",
       "      <td>-0.697599</td>\n",
       "      <td>1.000000</td>\n",
       "      <td>-0.105679</td>\n",
       "      <td>0.177926</td>\n",
       "      <td>0.324973</td>\n",
       "    </tr>\n",
       "    <tr>\n",
       "      <th>gas</th>\n",
       "      <td>0.194311</td>\n",
       "      <td>-0.308346</td>\n",
       "      <td>-0.212679</td>\n",
       "      <td>-0.233880</td>\n",
       "      <td>-0.284631</td>\n",
       "      <td>-0.217275</td>\n",
       "      <td>-0.069594</td>\n",
       "      <td>-0.054451</td>\n",
       "      <td>-0.241829</td>\n",
       "      <td>-0.984356</td>\n",
       "      <td>0.163926</td>\n",
       "      <td>0.476883</td>\n",
       "      <td>-0.255963</td>\n",
       "      <td>-0.191392</td>\n",
       "      <td>-0.105679</td>\n",
       "      <td>1.000000</td>\n",
       "      <td>-0.401397</td>\n",
       "      <td>0.040070</td>\n",
       "    </tr>\n",
       "    <tr>\n",
       "      <th>turbo</th>\n",
       "      <td>-0.059866</td>\n",
       "      <td>0.257611</td>\n",
       "      <td>0.234539</td>\n",
       "      <td>0.300567</td>\n",
       "      <td>0.087311</td>\n",
       "      <td>0.324902</td>\n",
       "      <td>0.108217</td>\n",
       "      <td>0.212614</td>\n",
       "      <td>0.222982</td>\n",
       "      <td>0.295541</td>\n",
       "      <td>0.241685</td>\n",
       "      <td>-0.183383</td>\n",
       "      <td>-0.202362</td>\n",
       "      <td>-0.254416</td>\n",
       "      <td>0.177926</td>\n",
       "      <td>-0.401397</td>\n",
       "      <td>1.000000</td>\n",
       "      <td>-0.057191</td>\n",
       "    </tr>\n",
       "    <tr>\n",
       "      <th>rear</th>\n",
       "      <td>0.212471</td>\n",
       "      <td>-0.187790</td>\n",
       "      <td>-0.050989</td>\n",
       "      <td>-0.051698</td>\n",
       "      <td>-0.106234</td>\n",
       "      <td>0.050468</td>\n",
       "      <td>0.196826</td>\n",
       "      <td>0.185042</td>\n",
       "      <td>-0.138455</td>\n",
       "      <td>-0.019762</td>\n",
       "      <td>0.317839</td>\n",
       "      <td>0.198461</td>\n",
       "      <td>-0.153487</td>\n",
       "      <td>-0.102026</td>\n",
       "      <td>0.324973</td>\n",
       "      <td>0.040070</td>\n",
       "      <td>-0.057191</td>\n",
       "      <td>1.000000</td>\n",
       "    </tr>\n",
       "  </tbody>\n",
       "</table>\n",
       "</div>"
      ],
      "text/plain": [
       "                  symboling  wheelbase  carlength  carwidth  carheight  \\\n",
       "symboling          1.000000  -0.531954  -0.357612 -0.232919  -0.541038   \n",
       "wheelbase         -0.531954   1.000000   0.874587  0.795144   0.589435   \n",
       "carlength         -0.357612   0.874587   1.000000  0.841118   0.491029   \n",
       "carwidth          -0.232919   0.795144   0.841118  1.000000   0.279210   \n",
       "carheight         -0.541038   0.589435   0.491029  0.279210   1.000000   \n",
       "curbweight        -0.227691   0.776386   0.877728  0.867032   0.295572   \n",
       "enginesize        -0.105790   0.569329   0.683360  0.735433   0.067149   \n",
       "boreratio         -0.130051   0.488750   0.606454  0.559150   0.171071   \n",
       "stroke            -0.008735   0.160959   0.129533  0.182942  -0.055307   \n",
       "compressionratio  -0.178515   0.249786   0.158414  0.181129   0.261214   \n",
       "horsepower         0.070873   0.353294   0.552623  0.640732  -0.108802   \n",
       "peakrpm            0.273606  -0.360469  -0.287242 -0.220012  -0.320411   \n",
       "citympg           -0.035823  -0.470414  -0.670909 -0.642704  -0.048640   \n",
       "highwaympg         0.034606  -0.544082  -0.704662 -0.677218  -0.107358   \n",
       "price             -0.079978   0.577816   0.682920  0.759325   0.119336   \n",
       "gas                0.194311  -0.308346  -0.212679 -0.233880  -0.284631   \n",
       "turbo             -0.059866   0.257611   0.234539  0.300567   0.087311   \n",
       "rear               0.212471  -0.187790  -0.050989 -0.051698  -0.106234   \n",
       "\n",
       "                  curbweight  enginesize  boreratio    stroke  \\\n",
       "symboling          -0.227691   -0.105790  -0.130051 -0.008735   \n",
       "wheelbase           0.776386    0.569329   0.488750  0.160959   \n",
       "carlength           0.877728    0.683360   0.606454  0.129533   \n",
       "carwidth            0.867032    0.735433   0.559150  0.182942   \n",
       "carheight           0.295572    0.067149   0.171071 -0.055307   \n",
       "curbweight          1.000000    0.850594   0.648480  0.168790   \n",
       "enginesize          0.850594    1.000000   0.583774  0.203129   \n",
       "boreratio           0.648480    0.583774   1.000000 -0.055909   \n",
       "stroke              0.168790    0.203129  -0.055909  1.000000   \n",
       "compressionratio    0.151362    0.028971   0.005197  0.186110   \n",
       "horsepower          0.750739    0.809769   0.573677  0.080940   \n",
       "peakrpm            -0.266243   -0.244660  -0.254976 -0.067964   \n",
       "citympg            -0.757414   -0.653658  -0.584532 -0.042145   \n",
       "highwaympg         -0.797465   -0.677470  -0.587012 -0.043931   \n",
       "price               0.835305    0.874145   0.553173  0.079443   \n",
       "gas                -0.217275   -0.069594  -0.054451 -0.241829   \n",
       "turbo               0.324902    0.108217   0.212614  0.222982   \n",
       "rear                0.050468    0.196826   0.185042 -0.138455   \n",
       "\n",
       "                  compressionratio  horsepower   peakrpm   citympg  \\\n",
       "symboling                -0.178515    0.070873  0.273606 -0.035823   \n",
       "wheelbase                 0.249786    0.353294 -0.360469 -0.470414   \n",
       "carlength                 0.158414    0.552623 -0.287242 -0.670909   \n",
       "carwidth                  0.181129    0.640732 -0.220012 -0.642704   \n",
       "carheight                 0.261214   -0.108802 -0.320411 -0.048640   \n",
       "curbweight                0.151362    0.750739 -0.266243 -0.757414   \n",
       "enginesize                0.028971    0.809769 -0.244660 -0.653658   \n",
       "boreratio                 0.005197    0.573677 -0.254976 -0.584532   \n",
       "stroke                    0.186110    0.080940 -0.067964 -0.042145   \n",
       "compressionratio          1.000000   -0.204326 -0.435741  0.324701   \n",
       "horsepower               -0.204326    1.000000  0.131073 -0.801456   \n",
       "peakrpm                  -0.435741    0.131073  1.000000 -0.113544   \n",
       "citympg                   0.324701   -0.801456 -0.113544  1.000000   \n",
       "highwaympg                0.265201   -0.770544 -0.054275  0.971337   \n",
       "price                     0.067984    0.808139 -0.085267 -0.685751   \n",
       "gas                      -0.984356    0.163926  0.476883 -0.255963   \n",
       "turbo                     0.295541    0.241685 -0.183383 -0.202362   \n",
       "rear                     -0.019762    0.317839  0.198461 -0.153487   \n",
       "\n",
       "                  highwaympg     price       gas     turbo      rear  \n",
       "symboling           0.034606 -0.079978  0.194311 -0.059866  0.212471  \n",
       "wheelbase          -0.544082  0.577816 -0.308346  0.257611 -0.187790  \n",
       "carlength          -0.704662  0.682920 -0.212679  0.234539 -0.050989  \n",
       "carwidth           -0.677218  0.759325 -0.233880  0.300567 -0.051698  \n",
       "carheight          -0.107358  0.119336 -0.284631  0.087311 -0.106234  \n",
       "curbweight         -0.797465  0.835305 -0.217275  0.324902  0.050468  \n",
       "enginesize         -0.677470  0.874145 -0.069594  0.108217  0.196826  \n",
       "boreratio          -0.587012  0.553173 -0.054451  0.212614  0.185042  \n",
       "stroke             -0.043931  0.079443 -0.241829  0.222982 -0.138455  \n",
       "compressionratio    0.265201  0.067984 -0.984356  0.295541 -0.019762  \n",
       "horsepower         -0.770544  0.808139  0.163926  0.241685  0.317839  \n",
       "peakrpm            -0.054275 -0.085267  0.476883 -0.183383  0.198461  \n",
       "citympg             0.971337 -0.685751 -0.255963 -0.202362 -0.153487  \n",
       "highwaympg          1.000000 -0.697599 -0.191392 -0.254416 -0.102026  \n",
       "price              -0.697599  1.000000 -0.105679  0.177926  0.324973  \n",
       "gas                -0.191392 -0.105679  1.000000 -0.401397  0.040070  \n",
       "turbo              -0.254416  0.177926 -0.401397  1.000000 -0.057191  \n",
       "rear               -0.102026  0.324973  0.040070 -0.057191  1.000000  "
      ]
     },
     "execution_count": 18,
     "metadata": {},
     "output_type": "execute_result"
    }
   ],
   "source": [
    "data_cleaned.corr()"
   ]
  },
  {
   "cell_type": "code",
   "execution_count": 19,
   "metadata": {},
   "outputs": [],
   "source": [
    "# wheelbase, carlength, car width,enginesize,horse power,highwaympg, curbweight and enginesize having highest correlation with price .\n",
    "# carheight, stroke, compression ratio, peakrpm, gas, turbo, rear  having less correlation with price column.\n"
   ]
  },
  {
   "cell_type": "code",
   "execution_count": 20,
   "metadata": {},
   "outputs": [],
   "source": [
    "#wheelbase, carlength, car width,enginesize,horse power,highwaympg, curbweight,carheight, stroke, compression ratio, peakrpm \n"
   ]
  },
  {
   "cell_type": "code",
   "execution_count": null,
   "metadata": {},
   "outputs": [],
   "source": []
  },
  {
   "cell_type": "code",
   "execution_count": 21,
   "metadata": {},
   "outputs": [],
   "source": [
    "data1=data_cleaned.copy()"
   ]
  },
  {
   "cell_type": "code",
   "execution_count": null,
   "metadata": {},
   "outputs": [],
   "source": []
  },
  {
   "cell_type": "code",
   "execution_count": 22,
   "metadata": {},
   "outputs": [
    {
     "data": {
      "text/plain": [
       "Index(['symboling', 'make', 'doornumber', 'carbody', 'drivewheel', 'wheelbase',\n",
       "       'carlength', 'carwidth', 'carheight', 'curbweight', 'enginetype',\n",
       "       'cylindernumber', 'enginesize', 'fuelsystem', 'boreratio', 'stroke',\n",
       "       'compressionratio', 'horsepower', 'peakrpm', 'citympg', 'highwaympg',\n",
       "       'price', 'gas', 'turbo', 'rear'],\n",
       "      dtype='object')"
      ]
     },
     "execution_count": 22,
     "metadata": {},
     "output_type": "execute_result"
    }
   ],
   "source": [
    "data1.columns"
   ]
  },
  {
   "cell_type": "code",
   "execution_count": null,
   "metadata": {},
   "outputs": [],
   "source": []
  },
  {
   "cell_type": "code",
   "execution_count": 23,
   "metadata": {},
   "outputs": [],
   "source": [
    "#symboling, make, fueltype,aspiration, doornumber, carbody, drivewheel,enginelocation, enginetype, cylindernumber, fuelsystem,"
   ]
  },
  {
   "cell_type": "code",
   "execution_count": 24,
   "metadata": {},
   "outputs": [],
   "source": [
    "X=data1['price'].groupby(data1['symboling']).mean()"
   ]
  },
  {
   "cell_type": "code",
   "execution_count": 25,
   "metadata": {},
   "outputs": [
    {
     "data": {
      "text/plain": [
       "<matplotlib.axes._subplots.AxesSubplot at 0x25cfe97b7b8>"
      ]
     },
     "execution_count": 25,
     "metadata": {},
     "output_type": "execute_result"
    },
    {
     "data": {
      "image/png": "[encoded data removed]",
      "text/plain": [
       "<Figure size 432x288 with 1 Axes>"
      ]
     },
     "metadata": {
      "needs_background": "light"
     },
     "output_type": "display_data"
    }
   ],
   "source": [
    "sns.barplot(X.keys(),X.values,palette='rainbow')"
   ]
  },
  {
   "cell_type": "code",
   "execution_count": 26,
   "metadata": {},
   "outputs": [
    {
     "data": {
      "text/plain": [
       " 0    67\n",
       " 1    54\n",
       " 2    32\n",
       " 3    27\n",
       "-1    22\n",
       "-2     3\n",
       "Name: symboling, dtype: int64"
      ]
     },
     "execution_count": 26,
     "metadata": {},
     "output_type": "execute_result"
    }
   ],
   "source": [
    "dataset['symboling'].value_counts()"
   ]
  },
  {
   "cell_type": "code",
   "execution_count": 27,
   "metadata": {},
   "outputs": [
    {
     "data": {
      "image/png": "[encoded data removed]",
      "text/plain": [
       "<Figure size 432x288 with 1 Axes>"
      ]
     },
     "metadata": {
      "needs_background": "light"
     },
     "output_type": "display_data"
    }
   ],
   "source": [
    "X=data1['price'].groupby(data1['make']).mean()\n",
    "sns.barplot(X.keys(),X.values,palette='rainbow')\n",
    "plt.xticks(rotation=90)\n",
    "plt.show()"
   ]
  },
  {
   "cell_type": "code",
   "execution_count": 28,
   "metadata": {},
   "outputs": [
    {
     "data": {
      "image/png": "[encoded data removed]",
      "text/plain": [
       "<Figure size 432x288 with 1 Axes>"
      ]
     },
     "metadata": {
      "needs_background": "light"
     },
     "output_type": "display_data"
    }
   ],
   "source": [
    "X=dataset['price'].groupby(dataset['fueltype']).mean()\n",
    "sns.barplot(X.keys(),X.values,palette='rainbow')\n",
    "plt.xticks(rotation=90)\n",
    "plt.show()"
   ]
  },
  {
   "cell_type": "code",
   "execution_count": 29,
   "metadata": {},
   "outputs": [
    {
     "data": {
      "image/png": "[encoded data removed]",
      "text/plain": [
       "<Figure size 432x288 with 1 Axes>"
      ]
     },
     "metadata": {
      "needs_background": "light"
     },
     "output_type": "display_data"
    }
   ],
   "source": [
    "X=dataset['price'].groupby(dataset['aspiration']).mean()\n",
    "sns.barplot(X.keys(),X.values,palette='rainbow')\n",
    "plt.xticks(rotation=90)\n",
    "plt.show()"
   ]
  },
  {
   "cell_type": "code",
   "execution_count": 30,
   "metadata": {},
   "outputs": [
    {
     "data": {
      "image/png": "[encoded data removed]",
      "text/plain": [
       "<Figure size 432x288 with 1 Axes>"
      ]
     },
     "metadata": {
      "needs_background": "light"
     },
     "output_type": "display_data"
    }
   ],
   "source": [
    "X=dataset['price'].groupby(dataset['doornumber']).mean()\n",
    "sns.barplot(X.keys(),X.values,palette='rainbow')\n",
    "plt.xticks(rotation=90)\n",
    "plt.show()"
   ]
  },
  {
   "cell_type": "code",
   "execution_count": 31,
   "metadata": {},
   "outputs": [],
   "source": [
    "data1.drop(['doornumber'],axis=1,inplace=True)"
   ]
  },
  {
   "cell_type": "code",
   "execution_count": 32,
   "metadata": {},
   "outputs": [
    {
     "data": {
      "image/png": "[encoded data removed]",
      "text/plain": [
       "<Figure size 432x288 with 1 Axes>"
      ]
     },
     "metadata": {
      "needs_background": "light"
     },
     "output_type": "display_data"
    }
   ],
   "source": [
    "X=data1['price'].groupby(data1['carbody']).mean()\n",
    "sns.barplot(X.keys(),X.values,palette='rainbow')\n",
    "plt.xticks(rotation=90)\n",
    "plt.show()"
   ]
  },
  {
   "cell_type": "code",
   "execution_count": 33,
   "metadata": {},
   "outputs": [
    {
     "data": {
      "image/png": "[encoded data removed]",
      "text/plain": [
       "<Figure size 432x288 with 1 Axes>"
      ]
     },
     "metadata": {
      "needs_background": "light"
     },
     "output_type": "display_data"
    }
   ],
   "source": [
    "X=data1['price'].groupby(data1['drivewheel']).mean()\n",
    "sns.barplot(X.keys(),X.values,palette='rainbow')\n",
    "plt.xticks(rotation=90)\n",
    "plt.show()"
   ]
  },
  {
   "cell_type": "code",
   "execution_count": 35,
   "metadata": {},
   "outputs": [
    {
     "data": {
      "image/png": "[encoded data removed]",
      "text/plain": [
       "<Figure size 432x288 with 1 Axes>"
      ]
     },
     "metadata": {
      "needs_background": "light"
     },
     "output_type": "display_data"
    }
   ],
   "source": [
    "X=dataset['price'].groupby(dataset['enginelocation']).mean()\n",
    "sns.barplot(X.keys(),X.values,palette='rainbow')\n",
    "plt.xticks(rotation=90)\n",
    "plt.show()"
   ]
  },
  {
   "cell_type": "code",
   "execution_count": 36,
   "metadata": {},
   "outputs": [
    {
     "data": {
      "image/png": "[encoded data removed]",
      "text/plain": [
       "<Figure size 432x288 with 1 Axes>"
      ]
     },
     "metadata": {
      "needs_background": "light"
     },
     "output_type": "display_data"
    }
   ],
   "source": [
    "X=data1['price'].groupby(data1['enginetype']).mean()\n",
    "sns.barplot(X.keys(),X.values,palette='rainbow')\n",
    "plt.xticks(rotation=90)\n",
    "plt.show()"
   ]
  },
  {
   "cell_type": "code",
   "execution_count": 37,
   "metadata": {},
   "outputs": [
    {
     "data": {
      "image/png": "[encoded data removed]",
      "text/plain": [
       "<Figure size 432x288 with 1 Axes>"
      ]
     },
     "metadata": {
      "needs_background": "light"
     },
     "output_type": "display_data"
    }
   ],
   "source": [
    "X=data1['price'].groupby(data1['cylindernumber']).mean()\n",
    "sns.barplot(X.keys(),X.values,palette='rainbow')\n",
    "plt.xticks(rotation=90)\n",
    "plt.show()"
   ]
  },
  {
   "cell_type": "code",
   "execution_count": 38,
   "metadata": {},
   "outputs": [
    {
     "data": {
      "image/png": "[encoded data removed]",
      "text/plain": [
       "<Figure size 432x288 with 1 Axes>"
      ]
     },
     "metadata": {
      "needs_background": "light"
     },
     "output_type": "display_data"
    }
   ],
   "source": [
    "X=data1['price'].groupby(data1['fuelsystem']).mean()\n",
    "sns.barplot(X.keys(),X.values,palette='rainbow')\n",
    "plt.xticks(rotation=90)\n",
    "plt.show()"
   ]
  },
  {
   "cell_type": "code",
   "execution_count": 39,
   "metadata": {},
   "outputs": [
    {
     "data": {
      "text/plain": [
       "Index(['symboling', 'make', 'carbody', 'drivewheel', 'wheelbase', 'carlength',\n",
       "       'carwidth', 'carheight', 'curbweight', 'enginetype', 'cylindernumber',\n",
       "       'enginesize', 'fuelsystem', 'boreratio', 'stroke', 'compressionratio',\n",
       "       'horsepower', 'peakrpm', 'citympg', 'highwaympg', 'price', 'gas',\n",
       "       'turbo', 'rear'],\n",
       "      dtype='object')"
      ]
     },
     "execution_count": 39,
     "metadata": {},
     "output_type": "execute_result"
    }
   ],
   "source": [
    "data1.columns"
   ]
  },
  {
   "cell_type": "code",
   "execution_count": 40,
   "metadata": {},
   "outputs": [
    {
     "data": {
      "text/html": [
       "<div>\n",
       "<style scoped>\n",
       "    .dataframe tbody tr th:only-of-type {\n",
       "        vertical-align: middle;\n",
       "    }\n",
       "\n",
       "    .dataframe tbody tr th {\n",
       "        vertical-align: top;\n",
       "    }\n",
       "\n",
       "    .dataframe thead th {\n",
       "        text-align: right;\n",
       "    }\n",
       "</style>\n",
       "<table border=\"1\" class=\"dataframe\">\n",
       "  <thead>\n",
       "    <tr style=\"text-align: right;\">\n",
       "      <th></th>\n",
       "      <th>symboling</th>\n",
       "      <th>make</th>\n",
       "      <th>carbody</th>\n",
       "      <th>drivewheel</th>\n",
       "      <th>wheelbase</th>\n",
       "      <th>carlength</th>\n",
       "      <th>carwidth</th>\n",
       "      <th>carheight</th>\n",
       "      <th>curbweight</th>\n",
       "      <th>enginetype</th>\n",
       "      <th>...</th>\n",
       "      <th>stroke</th>\n",
       "      <th>compressionratio</th>\n",
       "      <th>horsepower</th>\n",
       "      <th>peakrpm</th>\n",
       "      <th>citympg</th>\n",
       "      <th>highwaympg</th>\n",
       "      <th>price</th>\n",
       "      <th>gas</th>\n",
       "      <th>turbo</th>\n",
       "      <th>rear</th>\n",
       "    </tr>\n",
       "  </thead>\n",
       "  <tbody>\n",
       "    <tr>\n",
       "      <th>0</th>\n",
       "      <td>3</td>\n",
       "      <td>alfa-romero</td>\n",
       "      <td>convertible</td>\n",
       "      <td>rwd</td>\n",
       "      <td>88.6</td>\n",
       "      <td>168.8</td>\n",
       "      <td>64.1</td>\n",
       "      <td>48.8</td>\n",
       "      <td>2548</td>\n",
       "      <td>dohc</td>\n",
       "      <td>...</td>\n",
       "      <td>2.68</td>\n",
       "      <td>9.0</td>\n",
       "      <td>111</td>\n",
       "      <td>5000</td>\n",
       "      <td>21</td>\n",
       "      <td>27</td>\n",
       "      <td>13495.0</td>\n",
       "      <td>1</td>\n",
       "      <td>0</td>\n",
       "      <td>0</td>\n",
       "    </tr>\n",
       "    <tr>\n",
       "      <th>1</th>\n",
       "      <td>3</td>\n",
       "      <td>alfa-romero</td>\n",
       "      <td>convertible</td>\n",
       "      <td>rwd</td>\n",
       "      <td>88.6</td>\n",
       "      <td>168.8</td>\n",
       "      <td>64.1</td>\n",
       "      <td>48.8</td>\n",
       "      <td>2548</td>\n",
       "      <td>dohc</td>\n",
       "      <td>...</td>\n",
       "      <td>2.68</td>\n",
       "      <td>9.0</td>\n",
       "      <td>111</td>\n",
       "      <td>5000</td>\n",
       "      <td>21</td>\n",
       "      <td>27</td>\n",
       "      <td>16500.0</td>\n",
       "      <td>1</td>\n",
       "      <td>0</td>\n",
       "      <td>0</td>\n",
       "    </tr>\n",
       "    <tr>\n",
       "      <th>2</th>\n",
       "      <td>1</td>\n",
       "      <td>alfa-romero</td>\n",
       "      <td>hatchback</td>\n",
       "      <td>rwd</td>\n",
       "      <td>94.5</td>\n",
       "      <td>171.2</td>\n",
       "      <td>65.5</td>\n",
       "      <td>52.4</td>\n",
       "      <td>2823</td>\n",
       "      <td>ohcv</td>\n",
       "      <td>...</td>\n",
       "      <td>3.47</td>\n",
       "      <td>9.0</td>\n",
       "      <td>154</td>\n",
       "      <td>5000</td>\n",
       "      <td>19</td>\n",
       "      <td>26</td>\n",
       "      <td>16500.0</td>\n",
       "      <td>1</td>\n",
       "      <td>0</td>\n",
       "      <td>0</td>\n",
       "    </tr>\n",
       "    <tr>\n",
       "      <th>3</th>\n",
       "      <td>2</td>\n",
       "      <td>audi</td>\n",
       "      <td>sedan</td>\n",
       "      <td>fwd</td>\n",
       "      <td>99.8</td>\n",
       "      <td>176.6</td>\n",
       "      <td>66.2</td>\n",
       "      <td>54.3</td>\n",
       "      <td>2337</td>\n",
       "      <td>ohc</td>\n",
       "      <td>...</td>\n",
       "      <td>3.40</td>\n",
       "      <td>10.0</td>\n",
       "      <td>102</td>\n",
       "      <td>5500</td>\n",
       "      <td>24</td>\n",
       "      <td>30</td>\n",
       "      <td>13950.0</td>\n",
       "      <td>1</td>\n",
       "      <td>0</td>\n",
       "      <td>0</td>\n",
       "    </tr>\n",
       "    <tr>\n",
       "      <th>4</th>\n",
       "      <td>2</td>\n",
       "      <td>audi</td>\n",
       "      <td>sedan</td>\n",
       "      <td>4wd</td>\n",
       "      <td>99.4</td>\n",
       "      <td>176.6</td>\n",
       "      <td>66.4</td>\n",
       "      <td>54.3</td>\n",
       "      <td>2824</td>\n",
       "      <td>ohc</td>\n",
       "      <td>...</td>\n",
       "      <td>3.40</td>\n",
       "      <td>8.0</td>\n",
       "      <td>115</td>\n",
       "      <td>5500</td>\n",
       "      <td>18</td>\n",
       "      <td>22</td>\n",
       "      <td>17450.0</td>\n",
       "      <td>1</td>\n",
       "      <td>0</td>\n",
       "      <td>0</td>\n",
       "    </tr>\n",
       "  </tbody>\n",
       "</table>\n",
       "<p>5 rows × 24 columns</p>\n",
       "</div>"
      ],
      "text/plain": [
       "   symboling         make      carbody drivewheel  wheelbase  carlength  \\\n",
       "0          3  alfa-romero  convertible        rwd       88.6      168.8   \n",
       "1          3  alfa-romero  convertible        rwd       88.6      168.8   \n",
       "2          1  alfa-romero    hatchback        rwd       94.5      171.2   \n",
       "3          2         audi        sedan        fwd       99.8      176.6   \n",
       "4          2         audi        sedan        4wd       99.4      176.6   \n",
       "\n",
       "   carwidth  carheight  curbweight enginetype  ... stroke  compressionratio  \\\n",
       "0      64.1       48.8        2548       dohc  ...   2.68               9.0   \n",
       "1      64.1       48.8        2548       dohc  ...   2.68               9.0   \n",
       "2      65.5       52.4        2823       ohcv  ...   3.47               9.0   \n",
       "3      66.2       54.3        2337        ohc  ...   3.40              10.0   \n",
       "4      66.4       54.3        2824        ohc  ...   3.40               8.0   \n",
       "\n",
       "  horsepower  peakrpm  citympg  highwaympg    price  gas  turbo  rear  \n",
       "0        111     5000       21          27  13495.0    1      0     0  \n",
       "1        111     5000       21          27  16500.0    1      0     0  \n",
       "2        154     5000       19          26  16500.0    1      0     0  \n",
       "3        102     5500       24          30  13950.0    1      0     0  \n",
       "4        115     5500       18          22  17450.0    1      0     0  \n",
       "\n",
       "[5 rows x 24 columns]"
      ]
     },
     "execution_count": 40,
     "metadata": {},
     "output_type": "execute_result"
    }
   ],
   "source": [
    "data1.head()"
   ]
  },
  {
   "cell_type": "code",
   "execution_count": null,
   "metadata": {},
   "outputs": [],
   "source": []
  },
  {
   "cell_type": "code",
   "execution_count": 41,
   "metadata": {},
   "outputs": [],
   "source": [
    "data1.drop(['wheelbase','carlength','carwidth','horsepower','highwaympg','curbweight','carheight','stroke','compressionratio','peakrpm','gas','turbo','rear'],axis=1,inplace=True)"
   ]
  },
  {
   "cell_type": "code",
   "execution_count": 42,
   "metadata": {},
   "outputs": [
    {
     "data": {
      "text/plain": [
       "Index(['symboling', 'make', 'carbody', 'drivewheel', 'enginetype',\n",
       "       'cylindernumber', 'enginesize', 'fuelsystem', 'boreratio', 'citympg',\n",
       "       'price'],\n",
       "      dtype='object')"
      ]
     },
     "execution_count": 42,
     "metadata": {},
     "output_type": "execute_result"
    }
   ],
   "source": [
    "data1.columns"
   ]
  },
  {
   "cell_type": "code",
   "execution_count": 43,
   "metadata": {},
   "outputs": [],
   "source": [
    "a=['symboling', 'make', 'carbody',\n",
    "       'drivewheel',  'enginetype', 'cylindernumber',\n",
    "       'fuelsystem']\n",
    "#fueltype, aspiration, enginelocation"
   ]
  },
  {
   "cell_type": "code",
   "execution_count": 44,
   "metadata": {},
   "outputs": [
    {
     "data": {
      "text/plain": [
       "mpfi    94\n",
       "2bbl    66\n",
       "idi     20\n",
       "1bbl    11\n",
       "spdi     9\n",
       "4bbl     3\n",
       "mfi      1\n",
       "spfi     1\n",
       "Name: fuelsystem, dtype: int64"
      ]
     },
     "execution_count": 44,
     "metadata": {},
     "output_type": "execute_result"
    }
   ],
   "source": [
    "data1['fuelsystem'].value_counts()"
   ]
  },
  {
   "cell_type": "code",
   "execution_count": 45,
   "metadata": {},
   "outputs": [],
   "source": [
    "symboling=pd.get_dummies(data1['symboling'],drop_first=True)\n",
    "make=pd.get_dummies(data1['make'],drop_first=True)\n",
    "carbody=pd.get_dummies(data1['carbody'],drop_first=True)\n",
    "drivewheel=pd.get_dummies(data1['drivewheel'],drop_first=True)\n",
    "enginetype=pd.get_dummies(data1['enginetype'],drop_first=True)\n",
    "cylindernumber=pd.get_dummies(data1['cylindernumber'],drop_first=True)\n",
    "fuelsystem=pd.get_dummies(data1['fuelsystem'],drop_first=True)\n",
    "data1.drop(['symboling','make','carbody','drivewheel','enginetype','cylindernumber','fuelsystem'],axis=1,inplace=True)"
   ]
  },
  {
   "cell_type": "code",
   "execution_count": 46,
   "metadata": {},
   "outputs": [],
   "source": [
    "data2=pd.concat([data1,symboling,make,carbody,drivewheel,enginetype,cylindernumber,fuelsystem],axis=1)\n",
    "# removing drive wheel,carbody,aspiration  increasing accuracy, removing engine location,fuel type not affecting accuracy of our model\n",
    "#"
   ]
  },
  {
   "cell_type": "code",
   "execution_count": null,
   "metadata": {},
   "outputs": [],
   "source": []
  },
  {
   "cell_type": "code",
   "execution_count": 47,
   "metadata": {},
   "outputs": [],
   "source": [
    "Y=data2['price']\n",
    "X=data2.drop('price',axis=1)"
   ]
  },
  {
   "cell_type": "code",
   "execution_count": 48,
   "metadata": {},
   "outputs": [
    {
     "name": "stderr",
     "output_type": "stream",
     "text": [
      "C:\\ProgramData\\Anaconda3\\lib\\site-packages\\numpy\\core\\fromnumeric.py:2389: FutureWarning: Method .ptp is deprecated and will be removed in a future version. Use numpy.ptp instead.\n",
      "  return ptp(axis=axis, out=out, **kwargs)\n"
     ]
    },
    {
     "data": {
      "text/html": [
       "<table class=\"simpletable\">\n",
       "<caption>OLS Regression Results</caption>\n",
       "<tr>\n",
       "  <th>Dep. Variable:</th>          <td>price</td>      <th>  R-squared:         </th> <td>   0.946</td>\n",
       "</tr>\n",
       "<tr>\n",
       "  <th>Model:</th>                   <td>OLS</td>       <th>  Adj. R-squared:    </th> <td>   0.928</td>\n",
       "</tr>\n",
       "<tr>\n",
       "  <th>Method:</th>             <td>Least Squares</td>  <th>  F-statistic:       </th> <td>   51.65</td>\n",
       "</tr>\n",
       "<tr>\n",
       "  <th>Date:</th>             <td>Wed, 27 Jan 2021</td> <th>  Prob (F-statistic):</th> <td>2.05e-74</td>\n",
       "</tr>\n",
       "<tr>\n",
       "  <th>Time:</th>                 <td>18:54:54</td>     <th>  Log-Likelihood:    </th> <td> -1832.5</td>\n",
       "</tr>\n",
       "<tr>\n",
       "  <th>No. Observations:</th>      <td>   205</td>      <th>  AIC:               </th> <td>   3771.</td>\n",
       "</tr>\n",
       "<tr>\n",
       "  <th>Df Residuals:</th>          <td>   152</td>      <th>  BIC:               </th> <td>   3947.</td>\n",
       "</tr>\n",
       "<tr>\n",
       "  <th>Df Model:</th>              <td>    52</td>      <th>                     </th>     <td> </td>   \n",
       "</tr>\n",
       "<tr>\n",
       "  <th>Covariance Type:</th>      <td>nonrobust</td>    <th>                     </th>     <td> </td>   \n",
       "</tr>\n",
       "</table>\n",
       "<table class=\"simpletable\">\n",
       "<tr>\n",
       "       <td></td>         <th>coef</th>     <th>std err</th>      <th>t</th>      <th>P>|t|</th>  <th>[0.025</th>    <th>0.975]</th>  \n",
       "</tr>\n",
       "<tr>\n",
       "  <th>const</th>      <td> 9266.7369</td> <td> 6278.287</td> <td>    1.476</td> <td> 0.142</td> <td>-3137.238</td> <td> 2.17e+04</td>\n",
       "</tr>\n",
       "<tr>\n",
       "  <th>enginesize</th> <td>  128.7998</td> <td>   22.721</td> <td>    5.669</td> <td> 0.000</td> <td>   83.911</td> <td>  173.689</td>\n",
       "</tr>\n",
       "<tr>\n",
       "  <th>boreratio</th>  <td>-3832.2847</td> <td> 2106.416</td> <td>   -1.819</td> <td> 0.071</td> <td>-7993.919</td> <td>  329.350</td>\n",
       "</tr>\n",
       "<tr>\n",
       "  <th>citympg</th>    <td> -110.4129</td> <td>   69.788</td> <td>   -1.582</td> <td> 0.116</td> <td> -248.293</td> <td>   27.467</td>\n",
       "</tr>\n",
       "<tr>\n",
       "  <th>-1</th>         <td> 2483.6170</td> <td> 1483.391</td> <td>    1.674</td> <td> 0.096</td> <td> -447.110</td> <td> 5414.344</td>\n",
       "</tr>\n",
       "<tr>\n",
       "  <th>0</th>          <td> 3016.5486</td> <td> 1686.954</td> <td>    1.788</td> <td> 0.076</td> <td> -316.356</td> <td> 6349.454</td>\n",
       "</tr>\n",
       "<tr>\n",
       "  <th>1</th>          <td> 2719.5139</td> <td> 1713.397</td> <td>    1.587</td> <td> 0.115</td> <td> -665.634</td> <td> 6104.662</td>\n",
       "</tr>\n",
       "<tr>\n",
       "  <th>2</th>          <td> 1314.3121</td> <td> 1787.442</td> <td>    0.735</td> <td> 0.463</td> <td>-2217.126</td> <td> 4845.750</td>\n",
       "</tr>\n",
       "<tr>\n",
       "  <th>3</th>          <td> 1461.5265</td> <td> 1865.855</td> <td>    0.783</td> <td> 0.435</td> <td>-2224.832</td> <td> 5147.885</td>\n",
       "</tr>\n",
       "<tr>\n",
       "  <th>audi</th>       <td> 6519.2355</td> <td> 2568.990</td> <td>    2.538</td> <td> 0.012</td> <td> 1443.699</td> <td> 1.16e+04</td>\n",
       "</tr>\n",
       "<tr>\n",
       "  <th>bmw</th>        <td> 9576.6152</td> <td> 2461.351</td> <td>    3.891</td> <td> 0.000</td> <td> 4713.738</td> <td> 1.44e+04</td>\n",
       "</tr>\n",
       "<tr>\n",
       "  <th>buick</th>      <td> 1.049e+04</td> <td> 2729.173</td> <td>    3.843</td> <td> 0.000</td> <td> 5095.082</td> <td> 1.59e+04</td>\n",
       "</tr>\n",
       "<tr>\n",
       "  <th>chevrolet</th>  <td>  773.0635</td> <td> 2402.754</td> <td>    0.322</td> <td> 0.748</td> <td>-3974.042</td> <td> 5520.169</td>\n",
       "</tr>\n",
       "<tr>\n",
       "  <th>dodge</th>      <td>  -94.6800</td> <td> 1902.018</td> <td>   -0.050</td> <td> 0.960</td> <td>-3852.485</td> <td> 3663.124</td>\n",
       "</tr>\n",
       "<tr>\n",
       "  <th>honda</th>      <td> 2037.0651</td> <td> 2338.593</td> <td>    0.871</td> <td> 0.385</td> <td>-2583.279</td> <td> 6657.409</td>\n",
       "</tr>\n",
       "<tr>\n",
       "  <th>isuzu</th>      <td> 1100.9773</td> <td> 2200.778</td> <td>    0.500</td> <td> 0.618</td> <td>-3247.086</td> <td> 5449.041</td>\n",
       "</tr>\n",
       "<tr>\n",
       "  <th>jaguar</th>     <td> 4648.6444</td> <td> 2692.084</td> <td>    1.727</td> <td> 0.086</td> <td> -670.089</td> <td> 9967.378</td>\n",
       "</tr>\n",
       "<tr>\n",
       "  <th>mazda</th>      <td>  880.2389</td> <td> 1901.671</td> <td>    0.463</td> <td> 0.644</td> <td>-2876.881</td> <td> 4637.359</td>\n",
       "</tr>\n",
       "<tr>\n",
       "  <th>mercury</th>    <td> 3684.4337</td> <td> 3059.699</td> <td>    1.204</td> <td> 0.230</td> <td>-2360.595</td> <td> 9729.463</td>\n",
       "</tr>\n",
       "<tr>\n",
       "  <th>mitsubishi</th> <td>  -44.4540</td> <td> 1978.676</td> <td>   -0.022</td> <td> 0.982</td> <td>-3953.712</td> <td> 3864.804</td>\n",
       "</tr>\n",
       "<tr>\n",
       "  <th>nissan</th>     <td>  354.9701</td> <td> 1830.830</td> <td>    0.194</td> <td> 0.847</td> <td>-3262.190</td> <td> 3972.130</td>\n",
       "</tr>\n",
       "<tr>\n",
       "  <th>peugeot</th>    <td> -693.5191</td> <td> 1874.170</td> <td>   -0.370</td> <td> 0.712</td> <td>-4396.305</td> <td> 3009.267</td>\n",
       "</tr>\n",
       "<tr>\n",
       "  <th>plymouth</th>   <td> -427.1785</td> <td> 1931.701</td> <td>   -0.221</td> <td> 0.825</td> <td>-4243.629</td> <td> 3389.272</td>\n",
       "</tr>\n",
       "<tr>\n",
       "  <th>porsche</th>    <td> 9653.7891</td> <td> 3142.178</td> <td>    3.072</td> <td> 0.003</td> <td> 3445.807</td> <td> 1.59e+04</td>\n",
       "</tr>\n",
       "<tr>\n",
       "  <th>renault</th>    <td>-1191.0379</td> <td> 2514.043</td> <td>   -0.474</td> <td> 0.636</td> <td>-6158.017</td> <td> 3775.941</td>\n",
       "</tr>\n",
       "<tr>\n",
       "  <th>saab</th>       <td> 5365.8583</td> <td> 2150.156</td> <td>    2.496</td> <td> 0.014</td> <td> 1117.808</td> <td> 9613.908</td>\n",
       "</tr>\n",
       "<tr>\n",
       "  <th>subaru</th>     <td>-4952.7383</td> <td> 3675.482</td> <td>   -1.348</td> <td> 0.180</td> <td>-1.22e+04</td> <td> 2308.889</td>\n",
       "</tr>\n",
       "<tr>\n",
       "  <th>toyota</th>     <td> -250.8486</td> <td> 1765.024</td> <td>   -0.142</td> <td> 0.887</td> <td>-3737.995</td> <td> 3236.298</td>\n",
       "</tr>\n",
       "<tr>\n",
       "  <th>volkswagen</th> <td> 1593.4874</td> <td> 1981.511</td> <td>    0.804</td> <td> 0.423</td> <td>-2321.373</td> <td> 5508.347</td>\n",
       "</tr>\n",
       "<tr>\n",
       "  <th>volvo</th>      <td> 6065.8939</td> <td> 2225.206</td> <td>    2.726</td> <td> 0.007</td> <td> 1669.567</td> <td> 1.05e+04</td>\n",
       "</tr>\n",
       "<tr>\n",
       "  <th>hardtop</th>    <td>-3320.3460</td> <td> 1385.164</td> <td>   -2.397</td> <td> 0.018</td> <td>-6057.007</td> <td> -583.685</td>\n",
       "</tr>\n",
       "<tr>\n",
       "  <th>hatchback</th>  <td>-2949.4669</td> <td> 1260.097</td> <td>   -2.341</td> <td> 0.021</td> <td>-5439.033</td> <td> -459.901</td>\n",
       "</tr>\n",
       "<tr>\n",
       "  <th>sedan</th>      <td>-2936.0389</td> <td> 1311.342</td> <td>   -2.239</td> <td> 0.027</td> <td>-5526.850</td> <td> -345.228</td>\n",
       "</tr>\n",
       "<tr>\n",
       "  <th>wagon</th>      <td>-3448.7931</td> <td> 1397.703</td> <td>   -2.467</td> <td> 0.015</td> <td>-6210.225</td> <td> -687.361</td>\n",
       "</tr>\n",
       "<tr>\n",
       "  <th>fwd</th>        <td> -811.4972</td> <td>  922.084</td> <td>   -0.880</td> <td> 0.380</td> <td>-2633.253</td> <td> 1010.258</td>\n",
       "</tr>\n",
       "<tr>\n",
       "  <th>rwd</th>        <td>  171.5660</td> <td> 1205.898</td> <td>    0.142</td> <td> 0.887</td> <td>-2210.920</td> <td> 2554.052</td>\n",
       "</tr>\n",
       "<tr>\n",
       "  <th>dohcv</th>      <td> 1056.9564</td> <td> 4379.202</td> <td>    0.241</td> <td> 0.810</td> <td>-7595.007</td> <td> 9708.920</td>\n",
       "</tr>\n",
       "<tr>\n",
       "  <th>l</th>          <td> 1851.4033</td> <td> 1851.149</td> <td>    1.000</td> <td> 0.319</td> <td>-1805.901</td> <td> 5508.708</td>\n",
       "</tr>\n",
       "<tr>\n",
       "  <th>ohc</th>        <td>-1148.4083</td> <td> 1141.472</td> <td>   -1.006</td> <td> 0.316</td> <td>-3403.607</td> <td> 1106.790</td>\n",
       "</tr>\n",
       "<tr>\n",
       "  <th>ohcf</th>       <td> 5340.9646</td> <td> 2929.907</td> <td>    1.823</td> <td> 0.070</td> <td> -447.636</td> <td> 1.11e+04</td>\n",
       "</tr>\n",
       "<tr>\n",
       "  <th>ohcv</th>       <td>-2667.4143</td> <td> 1403.039</td> <td>   -1.901</td> <td> 0.059</td> <td>-5439.389</td> <td>  104.561</td>\n",
       "</tr>\n",
       "<tr>\n",
       "  <th>rotor</th>      <td> 4363.6293</td> <td> 2585.627</td> <td>    1.688</td> <td> 0.094</td> <td> -744.779</td> <td> 9472.038</td>\n",
       "</tr>\n",
       "<tr>\n",
       "  <th>five</th>       <td> -461.8809</td> <td> 3290.665</td> <td>   -0.140</td> <td> 0.889</td> <td>-6963.229</td> <td> 6039.467</td>\n",
       "</tr>\n",
       "<tr>\n",
       "  <th>four</th>       <td>  999.2656</td> <td> 4071.383</td> <td>    0.245</td> <td> 0.806</td> <td>-7044.541</td> <td> 9043.072</td>\n",
       "</tr>\n",
       "<tr>\n",
       "  <th>six</th>        <td> -241.6828</td> <td> 2983.551</td> <td>   -0.081</td> <td> 0.936</td> <td>-6136.266</td> <td> 5652.900</td>\n",
       "</tr>\n",
       "<tr>\n",
       "  <th>three</th>      <td> 2544.9224</td> <td> 3239.854</td> <td>    0.786</td> <td> 0.433</td> <td>-3856.037</td> <td> 8945.882</td>\n",
       "</tr>\n",
       "<tr>\n",
       "  <th>twelve</th>     <td>-4798.3841</td> <td> 3805.801</td> <td>   -1.261</td> <td> 0.209</td> <td>-1.23e+04</td> <td> 2720.715</td>\n",
       "</tr>\n",
       "<tr>\n",
       "  <th>two</th>        <td> 4363.6293</td> <td> 2585.627</td> <td>    1.688</td> <td> 0.094</td> <td> -744.779</td> <td> 9472.038</td>\n",
       "</tr>\n",
       "<tr>\n",
       "  <th>2bbl</th>       <td> 1646.0951</td> <td> 1749.118</td> <td>    0.941</td> <td> 0.348</td> <td>-1809.627</td> <td> 5101.817</td>\n",
       "</tr>\n",
       "<tr>\n",
       "  <th>4bbl</th>       <td>  209.6836</td> <td> 3047.393</td> <td>    0.069</td> <td> 0.945</td> <td>-5811.032</td> <td> 6230.399</td>\n",
       "</tr>\n",
       "<tr>\n",
       "  <th>idi</th>        <td> 3200.6536</td> <td> 1844.816</td> <td>    1.735</td> <td> 0.085</td> <td> -444.137</td> <td> 6845.445</td>\n",
       "</tr>\n",
       "<tr>\n",
       "  <th>mfi</th>        <td> 2041.8297</td> <td> 3108.307</td> <td>    0.657</td> <td> 0.512</td> <td>-4099.234</td> <td> 8182.893</td>\n",
       "</tr>\n",
       "<tr>\n",
       "  <th>mpfi</th>       <td> 2311.2731</td> <td> 1789.276</td> <td>    1.292</td> <td> 0.198</td> <td>-1223.788</td> <td> 5846.334</td>\n",
       "</tr>\n",
       "<tr>\n",
       "  <th>spdi</th>       <td> 2306.8966</td> <td> 2141.367</td> <td>    1.077</td> <td> 0.283</td> <td>-1923.790</td> <td> 6537.583</td>\n",
       "</tr>\n",
       "<tr>\n",
       "  <th>spfi</th>       <td> 2760.4912</td> <td> 3175.299</td> <td>    0.869</td> <td> 0.386</td> <td>-3512.928</td> <td> 9033.910</td>\n",
       "</tr>\n",
       "</table>\n",
       "<table class=\"simpletable\">\n",
       "<tr>\n",
       "  <th>Omnibus:</th>       <td>47.260</td> <th>  Durbin-Watson:     </th> <td>   1.451</td>\n",
       "</tr>\n",
       "<tr>\n",
       "  <th>Prob(Omnibus):</th> <td> 0.000</td> <th>  Jarque-Bera (JB):  </th> <td> 181.388</td>\n",
       "</tr>\n",
       "<tr>\n",
       "  <th>Skew:</th>          <td> 0.846</td> <th>  Prob(JB):          </th> <td>4.09e-40</td>\n",
       "</tr>\n",
       "<tr>\n",
       "  <th>Kurtosis:</th>      <td> 7.287</td> <th>  Cond. No.          </th> <td>1.05e+16</td>\n",
       "</tr>\n",
       "</table><br/><br/>Warnings:<br/>[1] Standard Errors assume that the covariance matrix of the errors is correctly specified.<br/>[2] The smallest eigenvalue is 3.43e-26. This might indicate that there are<br/>strong multicollinearity problems or that the design matrix is singular."
      ],
      "text/plain": [
       "<class 'statsmodels.iolib.summary.Summary'>\n",
       "\"\"\"\n",
       "                            OLS Regression Results                            \n",
       "==============================================================================\n",
       "Dep. Variable:                  price   R-squared:                       0.946\n",
       "Model:                            OLS   Adj. R-squared:                  0.928\n",
       "Method:                 Least Squares   F-statistic:                     51.65\n",
       "Date:                Wed, 27 Jan 2021   Prob (F-statistic):           2.05e-74\n",
       "Time:                        18:54:54   Log-Likelihood:                -1832.5\n",
       "No. Observations:                 205   AIC:                             3771.\n",
       "Df Residuals:                     152   BIC:                             3947.\n",
       "Df Model:                          52                                         \n",
       "Covariance Type:            nonrobust                                         \n",
       "==============================================================================\n",
       "                 coef    std err          t      P>|t|      [0.025      0.975]\n",
       "------------------------------------------------------------------------------\n",
       "const       9266.7369   6278.287      1.476      0.142   -3137.238    2.17e+04\n",
       "enginesize   128.7998     22.721      5.669      0.000      83.911     173.689\n",
       "boreratio  -3832.2847   2106.416     -1.819      0.071   -7993.919     329.350\n",
       "citympg     -110.4129     69.788     -1.582      0.116    -248.293      27.467\n",
       "-1          2483.6170   1483.391      1.674      0.096    -447.110    5414.344\n",
       "0           3016.5486   1686.954      1.788      0.076    -316.356    6349.454\n",
       "1           2719.5139   1713.397      1.587      0.115    -665.634    6104.662\n",
       "2           1314.3121   1787.442      0.735      0.463   -2217.126    4845.750\n",
       "3           1461.5265   1865.855      0.783      0.435   -2224.832    5147.885\n",
       "audi        6519.2355   2568.990      2.538      0.012    1443.699    1.16e+04\n",
       "bmw         9576.6152   2461.351      3.891      0.000    4713.738    1.44e+04\n",
       "buick       1.049e+04   2729.173      3.843      0.000    5095.082    1.59e+04\n",
       "chevrolet    773.0635   2402.754      0.322      0.748   -3974.042    5520.169\n",
       "dodge        -94.6800   1902.018     -0.050      0.960   -3852.485    3663.124\n",
       "honda       2037.0651   2338.593      0.871      0.385   -2583.279    6657.409\n",
       "isuzu       1100.9773   2200.778      0.500      0.618   -3247.086    5449.041\n",
       "jaguar      4648.6444   2692.084      1.727      0.086    -670.089    9967.378\n",
       "mazda        880.2389   1901.671      0.463      0.644   -2876.881    4637.359\n",
       "mercury     3684.4337   3059.699      1.204      0.230   -2360.595    9729.463\n",
       "mitsubishi   -44.4540   1978.676     -0.022      0.982   -3953.712    3864.804\n",
       "nissan       354.9701   1830.830      0.194      0.847   -3262.190    3972.130\n",
       "peugeot     -693.5191   1874.170     -0.370      0.712   -4396.305    3009.267\n",
       "plymouth    -427.1785   1931.701     -0.221      0.825   -4243.629    3389.272\n",
       "porsche     9653.7891   3142.178      3.072      0.003    3445.807    1.59e+04\n",
       "renault    -1191.0379   2514.043     -0.474      0.636   -6158.017    3775.941\n",
       "saab        5365.8583   2150.156      2.496      0.014    1117.808    9613.908\n",
       "subaru     -4952.7383   3675.482     -1.348      0.180   -1.22e+04    2308.889\n",
       "toyota      -250.8486   1765.024     -0.142      0.887   -3737.995    3236.298\n",
       "volkswagen  1593.4874   1981.511      0.804      0.423   -2321.373    5508.347\n",
       "volvo       6065.8939   2225.206      2.726      0.007    1669.567    1.05e+04\n",
       "hardtop    -3320.3460   1385.164     -2.397      0.018   -6057.007    -583.685\n",
       "hatchback  -2949.4669   1260.097     -2.341      0.021   -5439.033    -459.901\n",
       "sedan      -2936.0389   1311.342     -2.239      0.027   -5526.850    -345.228\n",
       "wagon      -3448.7931   1397.703     -2.467      0.015   -6210.225    -687.361\n",
       "fwd         -811.4972    922.084     -0.880      0.380   -2633.253    1010.258\n",
       "rwd          171.5660   1205.898      0.142      0.887   -2210.920    2554.052\n",
       "dohcv       1056.9564   4379.202      0.241      0.810   -7595.007    9708.920\n",
       "l           1851.4033   1851.149      1.000      0.319   -1805.901    5508.708\n",
       "ohc        -1148.4083   1141.472     -1.006      0.316   -3403.607    1106.790\n",
       "ohcf        5340.9646   2929.907      1.823      0.070    -447.636    1.11e+04\n",
       "ohcv       -2667.4143   1403.039     -1.901      0.059   -5439.389     104.561\n",
       "rotor       4363.6293   2585.627      1.688      0.094    -744.779    9472.038\n",
       "five        -461.8809   3290.665     -0.140      0.889   -6963.229    6039.467\n",
       "four         999.2656   4071.383      0.245      0.806   -7044.541    9043.072\n",
       "six         -241.6828   2983.551     -0.081      0.936   -6136.266    5652.900\n",
       "three       2544.9224   3239.854      0.786      0.433   -3856.037    8945.882\n",
       "twelve     -4798.3841   3805.801     -1.261      0.209   -1.23e+04    2720.715\n",
       "two         4363.6293   2585.627      1.688      0.094    -744.779    9472.038\n",
       "2bbl        1646.0951   1749.118      0.941      0.348   -1809.627    5101.817\n",
       "4bbl         209.6836   3047.393      0.069      0.945   -5811.032    6230.399\n",
       "idi         3200.6536   1844.816      1.735      0.085    -444.137    6845.445\n",
       "mfi         2041.8297   3108.307      0.657      0.512   -4099.234    8182.893\n",
       "mpfi        2311.2731   1789.276      1.292      0.198   -1223.788    5846.334\n",
       "spdi        2306.8966   2141.367      1.077      0.283   -1923.790    6537.583\n",
       "spfi        2760.4912   3175.299      0.869      0.386   -3512.928    9033.910\n",
       "==============================================================================\n",
       "Omnibus:                       47.260   Durbin-Watson:                   1.451\n",
       "Prob(Omnibus):                  0.000   Jarque-Bera (JB):              181.388\n",
       "Skew:                           0.846   Prob(JB):                     4.09e-40\n",
       "Kurtosis:                       7.287   Cond. No.                     1.05e+16\n",
       "==============================================================================\n",
       "\n",
       "Warnings:\n",
       "[1] Standard Errors assume that the covariance matrix of the errors is correctly specified.\n",
       "[2] The smallest eigenvalue is 3.43e-26. This might indicate that there are\n",
       "strong multicollinearity problems or that the design matrix is singular.\n",
       "\"\"\""
      ]
     },
     "execution_count": 48,
     "metadata": {},
     "output_type": "execute_result"
    }
   ],
   "source": [
    "import statsmodels.api as sm\n",
    "X=sm.add_constant(X)\n",
    "results=sm.OLS(Y,X).fit()\n",
    "results.summary()"
   ]
  },
  {
   "cell_type": "code",
   "execution_count": 49,
   "metadata": {},
   "outputs": [],
   "source": [
    "data2.drop(['citympg'],axis=1,inplace=True)"
   ]
  },
  {
   "cell_type": "code",
   "execution_count": 50,
   "metadata": {},
   "outputs": [],
   "source": [
    "#for i in range(len(a)):\n",
    "#    b=pd.get_dummies(data1[a[i]],drop_first=True)\n",
    "#    data1.drop(a[i],axis=1,inplace=True)\n",
    "#    data1=pd.concat([data,b],axis=1)"
   ]
  },
  {
   "cell_type": "code",
   "execution_count": 51,
   "metadata": {},
   "outputs": [
    {
     "name": "stdout",
     "output_type": "stream",
     "text": [
      "0.7338146014506948\n",
      "2748.694703290109\n",
      "15465458.965908466\n",
      "3932.6147746643665\n",
      "0.7325033433297623\n"
     ]
    }
   ],
   "source": [
    "x=data2['enginesize']\n",
    "y=data2['price']\n",
    "x=x.values.reshape(-1,1)\n",
    "\n",
    "from sklearn.model_selection import train_test_split\n",
    "X_train,X_test,Y_train,Y_test=train_test_split(x,y,test_size=0.2,random_state=42)\n",
    "\n",
    "from sklearn.preprocessing import StandardScaler\n",
    "sc=StandardScaler()\n",
    "X_train=sc.fit_transform(X_train)\n",
    "X_test=sc.transform(X_test)\n",
    "\n",
    "from sklearn.linear_model import LinearRegression\n",
    "model=LinearRegression()\n",
    "model.fit(X_train,Y_train)\n",
    "\n",
    "Y_pred=model.predict(X_test)\n",
    "\n",
    "from sklearn.metrics import r2_score\n",
    "r2=r2_score(Y_pred,Y_test)\n",
    "print(r2_score(Y_pred,Y_test))\n",
    "\n",
    "import sklearn.metrics as metrics\n",
    "print(metrics.mean_absolute_error(Y_test,Y_pred))\n",
    "print(metrics.mean_squared_error(Y_test,Y_pred))\n",
    "print(np.sqrt(metrics.mean_squared_error(Y_test,Y_pred)))\n",
    "\n",
    "Adj_R2=(1-((1-r2)*(205-1))/(203))\n",
    "print(Adj_R2)"
   ]
  },
  {
   "cell_type": "code",
   "execution_count": null,
   "metadata": {},
   "outputs": [],
   "source": []
  },
  {
   "cell_type": "code",
   "execution_count": null,
   "metadata": {},
   "outputs": [],
   "source": []
  },
  {
   "cell_type": "code",
   "execution_count": null,
   "metadata": {},
   "outputs": [],
   "source": []
  },
  {
   "cell_type": "code",
   "execution_count": null,
   "metadata": {},
   "outputs": [],
   "source": []
  },
  {
   "cell_type": "code",
   "execution_count": 52,
   "metadata": {},
   "outputs": [],
   "source": [
    "Y=data2['price']\n",
    "X=data2.drop('price',axis=1)"
   ]
  },
  {
   "cell_type": "code",
   "execution_count": 53,
   "metadata": {},
   "outputs": [
    {
     "name": "stderr",
     "output_type": "stream",
     "text": [
      "C:\\ProgramData\\Anaconda3\\lib\\site-packages\\numpy\\core\\fromnumeric.py:2389: FutureWarning: Method .ptp is deprecated and will be removed in a future version. Use numpy.ptp instead.\n",
      "  return ptp(axis=axis, out=out, **kwargs)\n"
     ]
    },
    {
     "data": {
      "text/html": [
       "<table class=\"simpletable\">\n",
       "<caption>OLS Regression Results</caption>\n",
       "<tr>\n",
       "  <th>Dep. Variable:</th>          <td>price</td>      <th>  R-squared:         </th> <td>   0.946</td>\n",
       "</tr>\n",
       "<tr>\n",
       "  <th>Model:</th>                   <td>OLS</td>       <th>  Adj. R-squared:    </th> <td>   0.927</td>\n",
       "</tr>\n",
       "<tr>\n",
       "  <th>Method:</th>             <td>Least Squares</td>  <th>  F-statistic:       </th> <td>   52.10</td>\n",
       "</tr>\n",
       "<tr>\n",
       "  <th>Date:</th>             <td>Wed, 27 Jan 2021</td> <th>  Prob (F-statistic):</th> <td>9.55e-75</td>\n",
       "</tr>\n",
       "<tr>\n",
       "  <th>Time:</th>                 <td>18:54:57</td>     <th>  Log-Likelihood:    </th> <td> -1834.1</td>\n",
       "</tr>\n",
       "<tr>\n",
       "  <th>No. Observations:</th>      <td>   205</td>      <th>  AIC:               </th> <td>   3772.</td>\n",
       "</tr>\n",
       "<tr>\n",
       "  <th>Df Residuals:</th>          <td>   153</td>      <th>  BIC:               </th> <td>   3945.</td>\n",
       "</tr>\n",
       "<tr>\n",
       "  <th>Df Model:</th>              <td>    51</td>      <th>                     </th>     <td> </td>   \n",
       "</tr>\n",
       "<tr>\n",
       "  <th>Covariance Type:</th>      <td>nonrobust</td>    <th>                     </th>     <td> </td>   \n",
       "</tr>\n",
       "</table>\n",
       "<table class=\"simpletable\">\n",
       "<tr>\n",
       "       <td></td>         <th>coef</th>     <th>std err</th>      <th>t</th>      <th>P>|t|</th>  <th>[0.025</th>    <th>0.975]</th>  \n",
       "</tr>\n",
       "<tr>\n",
       "  <th>const</th>      <td> 3690.4488</td> <td> 5221.062</td> <td>    0.707</td> <td> 0.481</td> <td>-6624.231</td> <td>  1.4e+04</td>\n",
       "</tr>\n",
       "<tr>\n",
       "  <th>enginesize</th> <td>  134.0442</td> <td>   22.588</td> <td>    5.934</td> <td> 0.000</td> <td>   89.420</td> <td>  178.668</td>\n",
       "</tr>\n",
       "<tr>\n",
       "  <th>boreratio</th>  <td>-3365.0451</td> <td> 2095.831</td> <td>   -1.606</td> <td> 0.110</td> <td>-7505.548</td> <td>  775.458</td>\n",
       "</tr>\n",
       "<tr>\n",
       "  <th>-1</th>         <td> 2533.3134</td> <td> 1490.326</td> <td>    1.700</td> <td> 0.091</td> <td> -410.960</td> <td> 5477.587</td>\n",
       "</tr>\n",
       "<tr>\n",
       "  <th>0</th>          <td> 2980.3338</td> <td> 1695.064</td> <td>    1.758</td> <td> 0.081</td> <td> -368.419</td> <td> 6329.086</td>\n",
       "</tr>\n",
       "<tr>\n",
       "  <th>1</th>          <td> 2543.1747</td> <td> 1718.146</td> <td>    1.480</td> <td> 0.141</td> <td> -851.178</td> <td> 5937.527</td>\n",
       "</tr>\n",
       "<tr>\n",
       "  <th>2</th>          <td>  938.9738</td> <td> 1780.310</td> <td>    0.527</td> <td> 0.599</td> <td>-2578.188</td> <td> 4456.136</td>\n",
       "</tr>\n",
       "<tr>\n",
       "  <th>3</th>          <td> 1329.9805</td> <td> 1873.135</td> <td>    0.710</td> <td> 0.479</td> <td>-2370.567</td> <td> 5030.528</td>\n",
       "</tr>\n",
       "<tr>\n",
       "  <th>audi</th>       <td> 6991.1726</td> <td> 2564.116</td> <td>    2.727</td> <td> 0.007</td> <td> 1925.530</td> <td> 1.21e+04</td>\n",
       "</tr>\n",
       "<tr>\n",
       "  <th>bmw</th>        <td> 9367.7435</td> <td> 2469.852</td> <td>    3.793</td> <td> 0.000</td> <td> 4488.328</td> <td> 1.42e+04</td>\n",
       "</tr>\n",
       "<tr>\n",
       "  <th>buick</th>      <td> 1.057e+04</td> <td> 2742.041</td> <td>    3.855</td> <td> 0.000</td> <td> 5152.850</td> <td>  1.6e+04</td>\n",
       "</tr>\n",
       "<tr>\n",
       "  <th>chevrolet</th>  <td> -157.4057</td> <td> 2341.082</td> <td>   -0.067</td> <td> 0.946</td> <td>-4782.424</td> <td> 4467.613</td>\n",
       "</tr>\n",
       "<tr>\n",
       "  <th>dodge</th>      <td>  -86.2744</td> <td> 1911.330</td> <td>   -0.045</td> <td> 0.964</td> <td>-3862.280</td> <td> 3689.731</td>\n",
       "</tr>\n",
       "<tr>\n",
       "  <th>honda</th>      <td> 2336.0612</td> <td> 2342.366</td> <td>    0.997</td> <td> 0.320</td> <td>-2291.495</td> <td> 6963.617</td>\n",
       "</tr>\n",
       "<tr>\n",
       "  <th>isuzu</th>      <td>  462.2191</td> <td> 2174.029</td> <td>    0.213</td> <td> 0.832</td> <td>-3832.771</td> <td> 4757.210</td>\n",
       "</tr>\n",
       "<tr>\n",
       "  <th>jaguar</th>     <td> 4224.9400</td> <td> 2691.856</td> <td>    1.570</td> <td> 0.119</td> <td>-1093.064</td> <td> 9542.944</td>\n",
       "</tr>\n",
       "<tr>\n",
       "  <th>mazda</th>      <td>  831.0876</td> <td> 1910.734</td> <td>    0.435</td> <td> 0.664</td> <td>-2943.741</td> <td> 4605.916</td>\n",
       "</tr>\n",
       "<tr>\n",
       "  <th>mercury</th>    <td> 3806.2653</td> <td> 3073.718</td> <td>    1.238</td> <td> 0.217</td> <td>-2266.142</td> <td> 9878.673</td>\n",
       "</tr>\n",
       "<tr>\n",
       "  <th>mitsubishi</th> <td>   12.5768</td> <td> 1988.042</td> <td>    0.006</td> <td> 0.995</td> <td>-3914.979</td> <td> 3940.133</td>\n",
       "</tr>\n",
       "<tr>\n",
       "  <th>nissan</th>     <td>  139.3540</td> <td> 1834.697</td> <td>    0.076</td> <td> 0.940</td> <td>-3485.255</td> <td> 3763.963</td>\n",
       "</tr>\n",
       "<tr>\n",
       "  <th>peugeot</th>    <td> -602.1789</td> <td> 1882.460</td> <td>   -0.320</td> <td> 0.749</td> <td>-4321.148</td> <td> 3116.790</td>\n",
       "</tr>\n",
       "<tr>\n",
       "  <th>plymouth</th>   <td> -572.0041</td> <td> 1938.986</td> <td>   -0.295</td> <td> 0.768</td> <td>-4402.646</td> <td> 3258.638</td>\n",
       "</tr>\n",
       "<tr>\n",
       "  <th>porsche</th>    <td> 9598.3801</td> <td> 3157.379</td> <td>    3.040</td> <td> 0.003</td> <td> 3360.693</td> <td> 1.58e+04</td>\n",
       "</tr>\n",
       "<tr>\n",
       "  <th>renault</th>    <td> -990.1808</td> <td> 2523.138</td> <td>   -0.392</td> <td> 0.695</td> <td>-5974.869</td> <td> 3994.507</td>\n",
       "</tr>\n",
       "<tr>\n",
       "  <th>saab</th>       <td> 6021.2086</td> <td> 2120.218</td> <td>    2.840</td> <td> 0.005</td> <td> 1832.527</td> <td> 1.02e+04</td>\n",
       "</tr>\n",
       "<tr>\n",
       "  <th>subaru</th>     <td>-4902.1718</td> <td> 3693.352</td> <td>   -1.327</td> <td> 0.186</td> <td>-1.22e+04</td> <td> 2394.379</td>\n",
       "</tr>\n",
       "<tr>\n",
       "  <th>toyota</th>     <td> -511.5008</td> <td> 1765.929</td> <td>   -0.290</td> <td> 0.772</td> <td>-4000.253</td> <td> 2977.252</td>\n",
       "</tr>\n",
       "<tr>\n",
       "  <th>volkswagen</th> <td> 1816.2418</td> <td> 1986.188</td> <td>    0.914</td> <td> 0.362</td> <td>-2107.652</td> <td> 5740.136</td>\n",
       "</tr>\n",
       "<tr>\n",
       "  <th>volvo</th>      <td> 5773.6700</td> <td> 2228.393</td> <td>    2.591</td> <td> 0.010</td> <td> 1371.277</td> <td> 1.02e+04</td>\n",
       "</tr>\n",
       "<tr>\n",
       "  <th>hardtop</th>    <td>-3318.3960</td> <td> 1391.951</td> <td>   -2.384</td> <td> 0.018</td> <td>-6068.321</td> <td> -568.471</td>\n",
       "</tr>\n",
       "<tr>\n",
       "  <th>hatchback</th>  <td>-3045.5501</td> <td> 1264.800</td> <td>   -2.408</td> <td> 0.017</td> <td>-5544.277</td> <td> -546.823</td>\n",
       "</tr>\n",
       "<tr>\n",
       "  <th>sedan</th>      <td>-3013.1312</td> <td> 1316.858</td> <td>   -2.288</td> <td> 0.023</td> <td>-5614.703</td> <td> -411.560</td>\n",
       "</tr>\n",
       "<tr>\n",
       "  <th>wagon</th>      <td>-3482.1345</td> <td> 1404.392</td> <td>   -2.479</td> <td> 0.014</td> <td>-6256.637</td> <td> -707.632</td>\n",
       "</tr>\n",
       "<tr>\n",
       "  <th>fwd</th>        <td>-1151.6667</td> <td>  901.060</td> <td>   -1.278</td> <td> 0.203</td> <td>-2931.791</td> <td>  628.458</td>\n",
       "</tr>\n",
       "<tr>\n",
       "  <th>rwd</th>        <td>  162.5346</td> <td> 1211.794</td> <td>    0.134</td> <td> 0.893</td> <td>-2231.473</td> <td> 2556.543</td>\n",
       "</tr>\n",
       "<tr>\n",
       "  <th>dohcv</th>      <td> 1504.1370</td> <td> 4391.485</td> <td>    0.343</td> <td> 0.732</td> <td>-7171.638</td> <td> 1.02e+04</td>\n",
       "</tr>\n",
       "<tr>\n",
       "  <th>l</th>          <td> 1870.7098</td> <td> 1860.180</td> <td>    1.006</td> <td> 0.316</td> <td>-1804.243</td> <td> 5545.663</td>\n",
       "</tr>\n",
       "<tr>\n",
       "  <th>ohc</th>        <td>-1171.4047</td> <td> 1146.972</td> <td>   -1.021</td> <td> 0.309</td> <td>-3437.351</td> <td> 1094.542</td>\n",
       "</tr>\n",
       "<tr>\n",
       "  <th>ohcf</th>       <td> 5053.0317</td> <td> 2938.579</td> <td>    1.720</td> <td> 0.088</td> <td> -752.396</td> <td> 1.09e+04</td>\n",
       "</tr>\n",
       "<tr>\n",
       "  <th>ohcv</th>       <td>-2505.0203</td> <td> 1406.136</td> <td>   -1.781</td> <td> 0.077</td> <td>-5282.968</td> <td>  272.928</td>\n",
       "</tr>\n",
       "<tr>\n",
       "  <th>rotor</th>      <td> 5081.9434</td> <td> 2557.927</td> <td>    1.987</td> <td> 0.049</td> <td>   28.528</td> <td> 1.01e+04</td>\n",
       "</tr>\n",
       "<tr>\n",
       "  <th>five</th>       <td>  335.9125</td> <td> 3267.734</td> <td>    0.103</td> <td> 0.918</td> <td>-6119.792</td> <td> 6791.617</td>\n",
       "</tr>\n",
       "<tr>\n",
       "  <th>four</th>       <td> 1476.5359</td> <td> 4080.087</td> <td>    0.362</td> <td> 0.718</td> <td>-6584.044</td> <td> 9537.116</td>\n",
       "</tr>\n",
       "<tr>\n",
       "  <th>six</th>        <td>  491.9024</td> <td> 2961.743</td> <td>    0.166</td> <td> 0.868</td> <td>-5359.288</td> <td> 6343.093</td>\n",
       "</tr>\n",
       "<tr>\n",
       "  <th>three</th>      <td> 2472.8886</td> <td> 3255.408</td> <td>    0.760</td> <td> 0.449</td> <td>-3958.463</td> <td> 8904.241</td>\n",
       "</tr>\n",
       "<tr>\n",
       "  <th>twelve</th>     <td>-4320.9391</td> <td> 3812.408</td> <td>   -1.133</td> <td> 0.259</td> <td>-1.19e+04</td> <td> 3210.818</td>\n",
       "</tr>\n",
       "<tr>\n",
       "  <th>two</th>        <td> 5081.9434</td> <td> 2557.927</td> <td>    1.987</td> <td> 0.049</td> <td>   28.528</td> <td> 1.01e+04</td>\n",
       "</tr>\n",
       "<tr>\n",
       "  <th>2bbl</th>       <td> 2148.1846</td> <td> 1728.516</td> <td>    1.243</td> <td> 0.216</td> <td>-1266.655</td> <td> 5563.024</td>\n",
       "</tr>\n",
       "<tr>\n",
       "  <th>4bbl</th>       <td>  835.1158</td> <td> 3036.450</td> <td>    0.275</td> <td> 0.784</td> <td>-5163.666</td> <td> 6833.897</td>\n",
       "</tr>\n",
       "<tr>\n",
       "  <th>idi</th>        <td> 2884.9071</td> <td> 1842.976</td> <td>    1.565</td> <td> 0.120</td> <td> -756.058</td> <td> 6525.872</td>\n",
       "</tr>\n",
       "<tr>\n",
       "  <th>mfi</th>        <td> 3125.1929</td> <td> 3046.801</td> <td>    1.026</td> <td> 0.307</td> <td>-2894.037</td> <td> 9144.423</td>\n",
       "</tr>\n",
       "<tr>\n",
       "  <th>mpfi</th>       <td> 2994.6734</td> <td> 1744.862</td> <td>    1.716</td> <td> 0.088</td> <td> -452.459</td> <td> 6441.806</td>\n",
       "</tr>\n",
       "<tr>\n",
       "  <th>spdi</th>       <td> 3347.1339</td> <td> 2047.914</td> <td>    1.634</td> <td> 0.104</td> <td> -698.706</td> <td> 7392.974</td>\n",
       "</tr>\n",
       "<tr>\n",
       "  <th>spfi</th>       <td> 4125.0836</td> <td> 3070.887</td> <td>    1.343</td> <td> 0.181</td> <td>-1941.730</td> <td> 1.02e+04</td>\n",
       "</tr>\n",
       "</table>\n",
       "<table class=\"simpletable\">\n",
       "<tr>\n",
       "  <th>Omnibus:</th>       <td>46.068</td> <th>  Durbin-Watson:     </th> <td>   1.469</td>\n",
       "</tr>\n",
       "<tr>\n",
       "  <th>Prob(Omnibus):</th> <td> 0.000</td> <th>  Jarque-Bera (JB):  </th> <td> 174.846</td>\n",
       "</tr>\n",
       "<tr>\n",
       "  <th>Skew:</th>          <td> 0.825</td> <th>  Prob(JB):          </th> <td>1.08e-38</td>\n",
       "</tr>\n",
       "<tr>\n",
       "  <th>Kurtosis:</th>      <td> 7.213</td> <th>  Cond. No.          </th> <td>1.05e+16</td>\n",
       "</tr>\n",
       "</table><br/><br/>Warnings:<br/>[1] Standard Errors assume that the covariance matrix of the errors is correctly specified.<br/>[2] The smallest eigenvalue is 3.3e-26. This might indicate that there are<br/>strong multicollinearity problems or that the design matrix is singular."
      ],
      "text/plain": [
       "<class 'statsmodels.iolib.summary.Summary'>\n",
       "\"\"\"\n",
       "                            OLS Regression Results                            \n",
       "==============================================================================\n",
       "Dep. Variable:                  price   R-squared:                       0.946\n",
       "Model:                            OLS   Adj. R-squared:                  0.927\n",
       "Method:                 Least Squares   F-statistic:                     52.10\n",
       "Date:                Wed, 27 Jan 2021   Prob (F-statistic):           9.55e-75\n",
       "Time:                        18:54:57   Log-Likelihood:                -1834.1\n",
       "No. Observations:                 205   AIC:                             3772.\n",
       "Df Residuals:                     153   BIC:                             3945.\n",
       "Df Model:                          51                                         \n",
       "Covariance Type:            nonrobust                                         \n",
       "==============================================================================\n",
       "                 coef    std err          t      P>|t|      [0.025      0.975]\n",
       "------------------------------------------------------------------------------\n",
       "const       3690.4488   5221.062      0.707      0.481   -6624.231     1.4e+04\n",
       "enginesize   134.0442     22.588      5.934      0.000      89.420     178.668\n",
       "boreratio  -3365.0451   2095.831     -1.606      0.110   -7505.548     775.458\n",
       "-1          2533.3134   1490.326      1.700      0.091    -410.960    5477.587\n",
       "0           2980.3338   1695.064      1.758      0.081    -368.419    6329.086\n",
       "1           2543.1747   1718.146      1.480      0.141    -851.178    5937.527\n",
       "2            938.9738   1780.310      0.527      0.599   -2578.188    4456.136\n",
       "3           1329.9805   1873.135      0.710      0.479   -2370.567    5030.528\n",
       "audi        6991.1726   2564.116      2.727      0.007    1925.530    1.21e+04\n",
       "bmw         9367.7435   2469.852      3.793      0.000    4488.328    1.42e+04\n",
       "buick       1.057e+04   2742.041      3.855      0.000    5152.850     1.6e+04\n",
       "chevrolet   -157.4057   2341.082     -0.067      0.946   -4782.424    4467.613\n",
       "dodge        -86.2744   1911.330     -0.045      0.964   -3862.280    3689.731\n",
       "honda       2336.0612   2342.366      0.997      0.320   -2291.495    6963.617\n",
       "isuzu        462.2191   2174.029      0.213      0.832   -3832.771    4757.210\n",
       "jaguar      4224.9400   2691.856      1.570      0.119   -1093.064    9542.944\n",
       "mazda        831.0876   1910.734      0.435      0.664   -2943.741    4605.916\n",
       "mercury     3806.2653   3073.718      1.238      0.217   -2266.142    9878.673\n",
       "mitsubishi    12.5768   1988.042      0.006      0.995   -3914.979    3940.133\n",
       "nissan       139.3540   1834.697      0.076      0.940   -3485.255    3763.963\n",
       "peugeot     -602.1789   1882.460     -0.320      0.749   -4321.148    3116.790\n",
       "plymouth    -572.0041   1938.986     -0.295      0.768   -4402.646    3258.638\n",
       "porsche     9598.3801   3157.379      3.040      0.003    3360.693    1.58e+04\n",
       "renault     -990.1808   2523.138     -0.392      0.695   -5974.869    3994.507\n",
       "saab        6021.2086   2120.218      2.840      0.005    1832.527    1.02e+04\n",
       "subaru     -4902.1718   3693.352     -1.327      0.186   -1.22e+04    2394.379\n",
       "toyota      -511.5008   1765.929     -0.290      0.772   -4000.253    2977.252\n",
       "volkswagen  1816.2418   1986.188      0.914      0.362   -2107.652    5740.136\n",
       "volvo       5773.6700   2228.393      2.591      0.010    1371.277    1.02e+04\n",
       "hardtop    -3318.3960   1391.951     -2.384      0.018   -6068.321    -568.471\n",
       "hatchback  -3045.5501   1264.800     -2.408      0.017   -5544.277    -546.823\n",
       "sedan      -3013.1312   1316.858     -2.288      0.023   -5614.703    -411.560\n",
       "wagon      -3482.1345   1404.392     -2.479      0.014   -6256.637    -707.632\n",
       "fwd        -1151.6667    901.060     -1.278      0.203   -2931.791     628.458\n",
       "rwd          162.5346   1211.794      0.134      0.893   -2231.473    2556.543\n",
       "dohcv       1504.1370   4391.485      0.343      0.732   -7171.638    1.02e+04\n",
       "l           1870.7098   1860.180      1.006      0.316   -1804.243    5545.663\n",
       "ohc        -1171.4047   1146.972     -1.021      0.309   -3437.351    1094.542\n",
       "ohcf        5053.0317   2938.579      1.720      0.088    -752.396    1.09e+04\n",
       "ohcv       -2505.0203   1406.136     -1.781      0.077   -5282.968     272.928\n",
       "rotor       5081.9434   2557.927      1.987      0.049      28.528    1.01e+04\n",
       "five         335.9125   3267.734      0.103      0.918   -6119.792    6791.617\n",
       "four        1476.5359   4080.087      0.362      0.718   -6584.044    9537.116\n",
       "six          491.9024   2961.743      0.166      0.868   -5359.288    6343.093\n",
       "three       2472.8886   3255.408      0.760      0.449   -3958.463    8904.241\n",
       "twelve     -4320.9391   3812.408     -1.133      0.259   -1.19e+04    3210.818\n",
       "two         5081.9434   2557.927      1.987      0.049      28.528    1.01e+04\n",
       "2bbl        2148.1846   1728.516      1.243      0.216   -1266.655    5563.024\n",
       "4bbl         835.1158   3036.450      0.275      0.784   -5163.666    6833.897\n",
       "idi         2884.9071   1842.976      1.565      0.120    -756.058    6525.872\n",
       "mfi         3125.1929   3046.801      1.026      0.307   -2894.037    9144.423\n",
       "mpfi        2994.6734   1744.862      1.716      0.088    -452.459    6441.806\n",
       "spdi        3347.1339   2047.914      1.634      0.104    -698.706    7392.974\n",
       "spfi        4125.0836   3070.887      1.343      0.181   -1941.730    1.02e+04\n",
       "==============================================================================\n",
       "Omnibus:                       46.068   Durbin-Watson:                   1.469\n",
       "Prob(Omnibus):                  0.000   Jarque-Bera (JB):              174.846\n",
       "Skew:                           0.825   Prob(JB):                     1.08e-38\n",
       "Kurtosis:                       7.213   Cond. No.                     1.05e+16\n",
       "==============================================================================\n",
       "\n",
       "Warnings:\n",
       "[1] Standard Errors assume that the covariance matrix of the errors is correctly specified.\n",
       "[2] The smallest eigenvalue is 3.3e-26. This might indicate that there are\n",
       "strong multicollinearity problems or that the design matrix is singular.\n",
       "\"\"\""
      ]
     },
     "execution_count": 53,
     "metadata": {},
     "output_type": "execute_result"
    }
   ],
   "source": [
    "import statsmodels.api as sm\n",
    "X=sm.add_constant(X)\n",
    "results=sm.OLS(Y,X).fit()\n",
    "results.summary()"
   ]
  },
  {
   "cell_type": "code",
   "execution_count": 54,
   "metadata": {},
   "outputs": [],
   "source": [
    "from sklearn.model_selection import train_test_split\n",
    "X_train,X_test,Y_train,Y_test=train_test_split(X,Y,test_size=0.3,random_state=42)"
   ]
  },
  {
   "cell_type": "code",
   "execution_count": null,
   "metadata": {},
   "outputs": [],
   "source": []
  },
  {
   "cell_type": "code",
   "execution_count": 55,
   "metadata": {},
   "outputs": [],
   "source": [
    "from sklearn.preprocessing import StandardScaler\n",
    "sc=StandardScaler()\n",
    "X_train=sc.fit_transform(X_train)\n",
    "X_test=sc.transform(X_test)"
   ]
  },
  {
   "cell_type": "code",
   "execution_count": 56,
   "metadata": {},
   "outputs": [
    {
     "data": {
      "text/plain": [
       "LinearRegression(copy_X=True, fit_intercept=True, n_jobs=None, normalize=False)"
      ]
     },
     "execution_count": 56,
     "metadata": {},
     "output_type": "execute_result"
    }
   ],
   "source": [
    "from sklearn.linear_model import LinearRegression\n",
    "model=LinearRegression()\n",
    "model.fit(X_train,Y_train)\n"
   ]
  },
  {
   "cell_type": "code",
   "execution_count": 57,
   "metadata": {},
   "outputs": [],
   "source": [
    "Y_pred=model.predict(X_test)"
   ]
  },
  {
   "cell_type": "code",
   "execution_count": 58,
   "metadata": {},
   "outputs": [
    {
     "name": "stdout",
     "output_type": "stream",
     "text": [
      "0.8845421176723858\n"
     ]
    }
   ],
   "source": [
    "from sklearn.metrics import r2_score\n",
    "r2=r2_score(Y_pred,Y_test)\n",
    "print(r2_score(Y_pred,Y_test))"
   ]
  },
  {
   "cell_type": "code",
   "execution_count": 59,
   "metadata": {},
   "outputs": [
    {
     "name": "stdout",
     "output_type": "stream",
     "text": [
      "2068.8716207079315\n",
      "8432634.497682711\n",
      "2903.8998773516128\n"
     ]
    }
   ],
   "source": [
    "import sklearn.metrics as metrics\n",
    "print(metrics.mean_absolute_error(Y_test,Y_pred))\n",
    "print(metrics.mean_squared_error(Y_test,Y_pred))\n",
    "print(np.sqrt(metrics.mean_squared_error(Y_test,Y_pred)))"
   ]
  },
  {
   "cell_type": "code",
   "execution_count": 60,
   "metadata": {},
   "outputs": [
    {
     "data": {
      "text/plain": [
       "151"
      ]
     },
     "execution_count": 60,
     "metadata": {},
     "output_type": "execute_result"
    }
   ],
   "source": [
    "205-53-1\n"
   ]
  },
  {
   "cell_type": "code",
   "execution_count": 61,
   "metadata": {},
   "outputs": [],
   "source": [
    "Adj_R2=(1-((1-r2)*(205-1))/(151))"
   ]
  },
  {
   "cell_type": "code",
   "execution_count": 62,
   "metadata": {},
   "outputs": [
    {
     "data": {
      "text/plain": [
       "0.8440171655971305"
      ]
     },
     "execution_count": 62,
     "metadata": {},
     "output_type": "execute_result"
    }
   ],
   "source": [
    "Adj_R2"
   ]
  },
  {
   "cell_type": "code",
   "execution_count": 63,
   "metadata": {},
   "outputs": [
    {
     "data": {
      "text/plain": [
       "0.8845421176723858"
      ]
     },
     "execution_count": 63,
     "metadata": {},
     "output_type": "execute_result"
    }
   ],
   "source": [
    "r2"
   ]
  },
  {
   "cell_type": "code",
   "execution_count": null,
   "metadata": {},
   "outputs": [],
   "source": []
  }
 ],
 "metadata": {
  "kernelspec": {
   "display_name": "Python 3",
   "language": "python",
   "name": "python3"
  },
  "language_info": {
   "codemirror_mode": {
    "name": "ipython",
    "version": 3
   },
   "file_extension": ".py",
   "mimetype": "text/x-python",
   "name": "python",
   "nbconvert_exporter": "python",
   "pygments_lexer": "ipython3",
   "version": "3.7.3"
  }
 },
 "nbformat": 4,
 "nbformat_minor": 2
}
